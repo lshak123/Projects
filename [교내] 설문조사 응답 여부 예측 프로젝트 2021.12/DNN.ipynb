{
 "cells": [
  {
   "cell_type": "markdown",
   "metadata": {
    "id": "XkkTsy4CXdcj"
   },
   "source": [
    "# 1. 패키지, 모듈, 클래스, 함수 불러오기"
   ]
  },
  {
   "cell_type": "code",
   "execution_count": 1,
   "metadata": {
    "id": "Qi-ckOfpf9ps"
   },
   "outputs": [],
   "source": [
    "# Data Wrangling\n",
    "import pandas as pd\n",
    "import numpy as np\n",
    "import gc\n",
    "\n",
    "# Visualization, EDA\n",
    "import missingno as msno\n",
    "import matplotlib.pylab as plt\n",
    "from matplotlib import font_manager, rc\n",
    "import seaborn as sns\n",
    "%matplotlib inline\n",
    "\n",
    "# Korean font\n",
    "#font_name = font_manager.FontProperties(fname=\"c:/Windows/Fonts/malgun.ttf\").get_name()\n",
    "#rc('font', family=font_name)\n",
    "\n",
    "# Preprocessing & Feature Engineering\n",
    "from sklearn.preprocessing import LabelEncoder\n",
    "from sklearn.preprocessing import StandardScaler\n",
    "\n",
    "# Evaluation\n",
    "from sklearn.metrics import roc_auc_score\n",
    "\n",
    "from keras.callbacks import ModelCheckpoint\n",
    "\n",
    "# Utility\n",
    "import re\n",
    "import os\n",
    "import time\n",
    "import datetime\n",
    "import random\n",
    "import tensorflow as tf\n",
    "import pickle\n",
    "import joblib\n",
    "import platform\n",
    "import warnings; warnings.filterwarnings(\"ignore\")\n",
    "from itertools import combinations\n",
    "from tqdm import tqdm, tqdm_notebook\n",
    "from IPython.display import Image\n",
    "from scipy.stats.mstats import gmean\n",
    "from tensorflow import keras\n",
    "from PIL import Image"
   ]
  },
  {
   "cell_type": "code",
   "execution_count": 2,
   "metadata": {
    "colab": {
     "base_uri": "https://localhost:8080/"
    },
    "id": "XR58KiUTaBbk",
    "outputId": "080c53e8-76e3-4106-f449-f1591e45ec4b"
   },
   "outputs": [],
   "source": [
    "# 코랩에서만 결로 설정\n",
    "#from google.colab import drive\n",
    "#drive.mount('/content/drive')"
   ]
  },
  {
   "cell_type": "markdown",
   "metadata": {
    "id": "9SiDyXJWf9pz"
   },
   "source": [
    "# 2. 데이터 불러오기"
   ]
  },
  {
   "cell_type": "code",
   "execution_count": 3,
   "metadata": {
    "id": "HAtxE5O9f9p1"
   },
   "outputs": [],
   "source": [
    "# 주피터 파일일때(주석처리)\n",
    "panel = pd.read_csv(os.path.abspath(\"../input\") + '/panel.csv')\n",
    "survey = pd.read_csv(os.path.abspath(\"../input\") + '/survey.csv')\n",
    "response_train = pd.read_csv(os.path.abspath(\"../input\") + '/response_train.csv')\n",
    "response_test = pd.read_csv(os.path.abspath(\"../input\") + '/response_test.csv')\n",
    "\n",
    "# 성별, 지역 값이 Nan 값인 패널 1명 test에도 존재 하지 않아 그냥 drop\n",
    "panel.drop(8315, axis=0, inplace=True)\n",
    "# REGION 컬럼 무의미해서 drop\n",
    "panel.drop(['REGION'], axis=1, inplace=True)\n"
   ]
  },
  {
   "cell_type": "markdown",
   "metadata": {
    "id": "Wv1UmYQgDrwK"
   },
   "source": [
    "# 3. Feature Create"
   ]
  },
  {
   "cell_type": "markdown",
   "metadata": {
    "id": "iJcAjHjrDrwN"
   },
   "source": [
    "##### (패널 질문 응답수)"
   ]
  },
  {
   "cell_type": "code",
   "execution_count": 4,
   "metadata": {
    "id": "t-UZ-xpV600_"
   },
   "outputs": [],
   "source": [
    "# 패널 질문 COUNT(질문의 성의 판단)\n",
    "panel_Questions = panel.iloc[:,4:]\n",
    "\n",
    "panel = panel.iloc[:,:4]\n",
    "panel_Questions_count = []\n",
    "for i in range(panel_Questions.shape[0]):\n",
    "            panel_Questions_count.append(pd.notna(panel_Questions.iloc[i,:].values).sum())\n",
    "\n",
    "# 패널 질문 응답수\n",
    "panel['Questions_count'] = panel_Questions_count\n",
    "\n",
    "train = response_train.merge(panel).merge(survey)\n",
    "test = response_test.merge(panel).merge(survey).sort_values(by='ID')\n",
    "\n",
    "# train 데이터 분할\n",
    "before_train = train.query(\"TIME<='2021-02-01 00:00:00'\")\n",
    "train = train.query(\"TIME>='2021-02-01 00:00:00'\")"
   ]
  },
  {
   "cell_type": "markdown",
   "metadata": {
    "id": "EuynqF76__Ug"
   },
   "source": [
    "##### (패널 ID별 누적 포인트)"
   ]
  },
  {
   "cell_type": "code",
   "execution_count": 5,
   "metadata": {
    "id": "_nYDxw992gps"
   },
   "outputs": [],
   "source": [
    "# 패널 ID 별 획득 누적 포인트\n",
    "Points_earned = pd.DataFrame(before_train.query('STATUS==1').groupby('userID')['CPI'].agg([('Points_earned',np.sum)])).reset_index()\n",
    "\n",
    "train = train.merge(Points_earned, how='left')\n",
    "train['Points_earned'].fillna(0, inplace = True)\n",
    "test = test.merge(Points_earned, how='left')\n",
    "test['Points_earned'].fillna(0, inplace = True)"
   ]
  },
  {
   "cell_type": "markdown",
   "metadata": {
    "id": "t01KkPQAf9p8"
   },
   "source": [
    "##### (일자, 요일, 시간, 시간별 범위, 시간 범위별 응답확률), (리워드 포인트별 범위, 리워드 범위별 응답 확률)"
   ]
  },
  {
   "cell_type": "code",
   "execution_count": 6,
   "metadata": {
    "id": "VRrotPA-RxG7"
   },
   "outputs": [],
   "source": [
    "data = [train, test]\n",
    "\n",
    "for i in data:\n",
    "    i['TIME'] = i['TIME'].astype(\"datetime64\")\n",
    "    \n",
    "    i['DAY'] = i['TIME'].dt.day\n",
    "    \n",
    "    i['WEEKDAY'] = i['TIME'].dt.dayofweek\n",
    "    \n",
    "    i['HOUR'] = i['TIME'].dt.hour\n",
    "    \n",
    "    i['HOUR_range'] = pd.cut(i['HOUR'], 4, labels = ['새벽', '오전', '오후', '야간'], right = True, include_lowest=True)\n",
    "   \n",
    "    i['CPI_range'] = pd.cut(i['CPI'],\n",
    "                         bins = [0, 500, 1000, 1500, 2000, 2500 ],\n",
    "                         labels = ['0~500', '501~1000','1001~1500', '1501~2000', '2001~2500'],\n",
    "                         right = True, include_lowest=True)\n",
    "    \n",
    "\n",
    "\n",
    "WEEKDAY_status_mean = pd.DataFrame(train.groupby('WEEKDAY')['STATUS'].agg([('WEEKDAY_status_mean',np.mean)])).reset_index()\n",
    "\n",
    "HOUR_range_status_mean = pd.DataFrame(train.groupby('HOUR_range')['STATUS'].agg([('HOUR_range_status_mean',np.mean)])).reset_index()\n",
    "\n",
    "CPI_range_status_mean = pd.DataFrame(train.groupby('CPI_range')['STATUS'].agg([('CPI_range_status_mean',np.mean)])).reset_index()\n",
    "\n",
    "train = train.merge(CPI_range_status_mean, how='left').merge(WEEKDAY_status_mean, how='left').merge(HOUR_range_status_mean, how='left')#.merge(IR_range_status_mean, how='left').merge(LOI_range_status_mean, how='left')\n",
    "test = test.merge(CPI_range_status_mean, how='left').merge(WEEKDAY_status_mean, how='left').merge(HOUR_range_status_mean, how='left')#.merge(IR_range_status_mean, how='left').merge(LOI_range_status_mean, how='left')"
   ]
  },
  {
   "cell_type": "markdown",
   "metadata": {
    "id": "YmDrXvadDrxA"
   },
   "source": [
    "##### (평균 리워드 포인트)"
   ]
  },
  {
   "cell_type": "code",
   "execution_count": 7,
   "metadata": {
    "id": "BQC_pqVDQEhe"
   },
   "outputs": [],
   "source": [
    "# 패널 ID 별 획득 평균 포인트\n",
    "Points_earned_mean = pd.DataFrame(train.query('STATUS==1').groupby('userID')['CPI'].agg([('Points_earned_mean',np.mean)])).reset_index()\n",
    "\n",
    "train = train.merge(Points_earned_mean, how='left')\n",
    "train['Points_earned_mean'].fillna(0, inplace = True)\n",
    "test = test.merge(Points_earned_mean, how='left')\n",
    "test['Points_earned_mean'].fillna(0, inplace = True)"
   ]
  },
  {
   "cell_type": "markdown",
   "metadata": {
    "id": "j1t1Hy7hDrxH"
   },
   "source": [
    "##### (TITLE 정규표현식)"
   ]
  },
  {
   "cell_type": "code",
   "execution_count": 8,
   "metadata": {
    "id": "BiWBBzRvn4E-"
   },
   "outputs": [],
   "source": [
    "# [^ ㄱ-ㅣ가-힣] 정규 표현식\n",
    "# 다소 시간이 오래 걸림\n",
    "word_counts = {}\n",
    "def count_word(x):\n",
    "    if x['STATUS'] == 1:\n",
    "        for w in re.sub(r'[^ ㄱ-ㅣ가-힣]', '', x['TITLE']).split():\n",
    "            word_counts[w] = word_counts.get(w, 0) + 1\n",
    "def score_word(x):\n",
    "    score = 0\n",
    "    for w in re.sub(r'[^ ㄱ-ㅣ가-힣]', '', x['TITLE']).split():\n",
    "        score += word_counts.get(w, 0)\n",
    "    return score    \n",
    "            \n",
    "train.apply(count_word, axis=1)\n",
    "train.TITLE = train.apply(score_word, axis=1)\n",
    "test.TITLE = test.apply(score_word, axis=1)"
   ]
  },
  {
   "cell_type": "markdown",
   "metadata": {
    "id": "Lk32GbylDrxN"
   },
   "source": [
    "##### (TYPE 별 응답확률)"
   ]
  },
  {
   "cell_type": "code",
   "execution_count": 9,
   "metadata": {
    "id": "VfYIgA3WDrxO"
   },
   "outputs": [],
   "source": [
    "TYPE_mean = pd.DataFrame(train.groupby('TYPE')['STATUS'].agg([('TYPE_mean',np.mean)])).reset_index()\n",
    "train = train.merge(TYPE_mean, how='left')\n",
    "test = test.merge(TYPE_mean, how='left')"
   ]
  },
  {
   "cell_type": "markdown",
   "metadata": {
    "id": "sB1qIUPfDrxP"
   },
   "source": [
    "##### (유저 아이디 별 응답확률)"
   ]
  },
  {
   "cell_type": "code",
   "execution_count": 10,
   "metadata": {
    "id": "rGPCpo19DrxQ"
   },
   "outputs": [],
   "source": [
    "respond = train.query('STATUS == 1').groupby('userID')['userID'].agg([('respond',np.size)]).reset_index()\n",
    "total = train.groupby('userID')['userID'].agg([('total',np.size)]).reset_index()\n",
    "\n",
    "train = train.merge(respond).merge(total)\n",
    "\n",
    "train['Response_Probability'] = train['respond'] / train['total']\n",
    "test = pd.merge(test, train.drop_duplicates(subset=['userID'])[['userID', 'Response_Probability']], how='left')\n",
    "test['Response_Probability'] = test['Response_Probability'].fillna(0)\n",
    "\n",
    "del train['respond'], train['total']"
   ]
  },
  {
   "cell_type": "code",
   "execution_count": 11,
   "metadata": {},
   "outputs": [],
   "source": [
    "train.CATEGORIES = train.CATEGORIES.astype(str)\n",
    "test.CATEGORIES = test.CATEGORIES.astype(str)\n",
    "\n",
    "features = pd.concat([train.CATEGORIES, test.CATEGORIES]).reset_index(drop=True)\n",
    "\n",
    "features = LabelEncoder().fit_transform(features)\n",
    "\n",
    "train['CATEGORIES'] = features[:train.shape[0]]\n",
    "test['CATEGORIES'] = features[train.shape[0]:]"
   ]
  },
  {
   "cell_type": "markdown",
   "metadata": {
    "id": "eR7ybrefDrxS"
   },
   "source": [
    "# 4. Feature Engineering"
   ]
  },
  {
   "cell_type": "markdown",
   "metadata": {
    "id": "k38hLtOBjIfp"
   },
   "source": [
    "##### 무의미한 feature 삭제"
   ]
  },
  {
   "cell_type": "code",
   "execution_count": 12,
   "metadata": {
    "id": "1U4Mhs5k_YUI"
   },
   "outputs": [],
   "source": [
    "y_train = train['STATUS']\n",
    "train.drop('STATUS', axis=1, inplace=True)\n",
    "\n",
    "test_id = test.iloc[:,0:1]\n",
    "test.drop('ID', axis=1, inplace=True)\n",
    "\n",
    "#성능 개선에 무의미한 Feature 제거\n",
    "train.drop(['userID', 'surveyID', 'TIME', 'BIRTH', 'HOUR_range', 'CPI_range'], axis=1, inplace=True)\n",
    "test.drop(['userID', 'surveyID', 'TIME', 'BIRTH', 'HOUR_range', 'CPI_range'], axis=1, inplace=True)"
   ]
  },
  {
   "cell_type": "markdown",
   "metadata": {
    "id": "hgsv5mlKDrxV"
   },
   "source": [
    "##### Feature 전처리"
   ]
  },
  {
   "cell_type": "code",
   "execution_count": 13,
   "metadata": {
    "id": "6kRAhQYQEEqa"
   },
   "outputs": [],
   "source": [
    "# train, test 병합 후 결측값 처리\n",
    "features = pd.concat([train, test]).reset_index(drop=True)\n",
    "\n",
    "features = features.astype({'GENDER':'object'})\n",
    "\n",
    "cat = features.select_dtypes(include=['object','category']).columns.to_list()# 범주형 변수\n",
    "num = features.select_dtypes(exclude=['object','category']).columns.to_list()# 수치형 변수"
   ]
  },
  {
   "cell_type": "code",
   "execution_count": 14,
   "metadata": {
    "colab": {
     "base_uri": "https://localhost:8080/",
     "height": 390
    },
    "id": "UTo_C4X8ICie",
    "outputId": "08c72c7c-5328-480b-aeca-61318c9990b9"
   },
   "outputs": [
    {
     "data": {
      "image/png": "[encoded data removed]",
      "text/plain": [
       "<Figure size 576x288 with 1 Axes>"
      ]
     },
     "metadata": {
      "needs_background": "light"
     },
     "output_type": "display_data"
    }
   ],
   "source": [
    "# 이상치 제거 전 수치형 변수 시각화\n",
    "plt.figure(figsize = (8, 4))\n",
    "features[num].boxplot()\n",
    "plt.xticks(fontsize = 10, rotation = 90)\n",
    "plt.show()"
   ]
  },
  {
   "cell_type": "code",
   "execution_count": 15,
   "metadata": {
    "colab": {
     "base_uri": "https://localhost:8080/",
     "height": 390
    },
    "id": "a5VtiE_bHy3C",
    "outputId": "12680e42-1dc5-46ea-8bd4-2adfe95f705c"
   },
   "outputs": [
    {
     "data": {
      "image/png": "[encoded data removed]",
      "text/plain": [
       "<Figure size 576x288 with 1 Axes>"
      ]
     },
     "metadata": {
      "needs_background": "light"
     },
     "output_type": "display_data"
    }
   ],
   "source": [
    "# 수치형 변수 이상치 제거\n",
    "features[num] = features[num].apply(lambda x: x.clip(x.quantile(.05), x.quantile(.95)), axis=0)\n",
    "\n",
    "# 이상치 제거 후 수치형 변수 시각화\n",
    "plt.figure(figsize = (8, 4))\n",
    "features[num].boxplot()\n",
    "plt.xticks(fontsize = 10, rotation = 90)\n",
    "plt.show()"
   ]
  },
  {
   "cell_type": "code",
   "execution_count": 16,
   "metadata": {
    "id": "dpXQ5M3PsYFQ"
   },
   "outputs": [],
   "source": [
    "#StandardScaler\n",
    "from sklearn.preprocessing import StandardScaler\n",
    "\n",
    "# 스케일링 전 train, test 분할\n",
    "X_train = features.iloc[:y_train.shape[0], :]\n",
    "X_test = features.iloc[y_train.shape[0]:, :]\n",
    "\n",
    "scaler = StandardScaler()\n",
    "X_train[num] = scaler.fit_transform(X_train[num])\n",
    "X_test[num] = scaler.transform(X_test[num])"
   ]
  },
  {
   "cell_type": "code",
   "execution_count": 17,
   "metadata": {
    "id": "z0FazMQNYzQD"
   },
   "outputs": [],
   "source": [
    "# 원핫 인코딩\n",
    "df_encoded = pd.get_dummies(pd.concat([X_train, X_test]), columns=cat)\n",
    "X_train = df_encoded[:X_train.shape[0]]\n",
    "X_test = df_encoded[X_train.shape[0]:]"
   ]
  },
  {
   "cell_type": "markdown",
   "metadata": {
    "id": "2PAK14y0h_RC"
   },
   "source": [
    "# 5. 피쳐 셀렉션"
   ]
  },
  {
   "cell_type": "code",
   "execution_count": 18,
   "metadata": {
    "colab": {
     "base_uri": "https://localhost:8080/",
     "height": 1000
    },
    "id": "5quGcTZY_vZu",
    "outputId": "f86015be-7ae2-46d7-af8e-84652062c3c2"
   },
   "outputs": [
    {
     "data": {
      "image/png": "[encoded data removed]",
      "text/plain": [
       "<Figure size 576x684 with 1 Axes>"
      ]
     },
     "metadata": {
      "needs_background": "light"
     },
     "output_type": "display_data"
    },
    {
     "data": {
      "text/html": [
       "<div>\n",
       "<style scoped>\n",
       "    .dataframe tbody tr th:only-of-type {\n",
       "        vertical-align: middle;\n",
       "    }\n",
       "\n",
       "    .dataframe tbody tr th {\n",
       "        vertical-align: top;\n",
       "    }\n",
       "\n",
       "    .dataframe thead th {\n",
       "        text-align: right;\n",
       "    }\n",
       "</style>\n",
       "<table border=\"1\" class=\"dataframe\">\n",
       "  <thead>\n",
       "    <tr style=\"text-align: right;\">\n",
       "      <th></th>\n",
       "      <th>column_name</th>\n",
       "      <th>shap_importance</th>\n",
       "    </tr>\n",
       "  </thead>\n",
       "  <tbody>\n",
       "    <tr>\n",
       "      <th>15</th>\n",
       "      <td>Response_Probability</td>\n",
       "      <td>2.27688</td>\n",
       "    </tr>\n",
       "    <tr>\n",
       "      <th>1</th>\n",
       "      <td>TITLE</td>\n",
       "      <td>0.287013</td>\n",
       "    </tr>\n",
       "    <tr>\n",
       "      <th>13</th>\n",
       "      <td>Points_earned_mean</td>\n",
       "      <td>0.238454</td>\n",
       "    </tr>\n",
       "    <tr>\n",
       "      <th>5</th>\n",
       "      <td>CPI</td>\n",
       "      <td>0.183968</td>\n",
       "    </tr>\n",
       "    <tr>\n",
       "      <th>12</th>\n",
       "      <td>HOUR_range_status_mean</td>\n",
       "      <td>0.157187</td>\n",
       "    </tr>\n",
       "    <tr>\n",
       "      <th>3</th>\n",
       "      <td>LOI</td>\n",
       "      <td>0.1533</td>\n",
       "    </tr>\n",
       "    <tr>\n",
       "      <th>8</th>\n",
       "      <td>WEEKDAY</td>\n",
       "      <td>0.120584</td>\n",
       "    </tr>\n",
       "    <tr>\n",
       "      <th>7</th>\n",
       "      <td>DAY</td>\n",
       "      <td>0.0885408</td>\n",
       "    </tr>\n",
       "    <tr>\n",
       "      <th>9</th>\n",
       "      <td>HOUR</td>\n",
       "      <td>0.0855007</td>\n",
       "    </tr>\n",
       "    <tr>\n",
       "      <th>2</th>\n",
       "      <td>IR</td>\n",
       "      <td>0.0833419</td>\n",
       "    </tr>\n",
       "    <tr>\n",
       "      <th>14</th>\n",
       "      <td>TYPE_mean</td>\n",
       "      <td>0.054531</td>\n",
       "    </tr>\n",
       "    <tr>\n",
       "      <th>4</th>\n",
       "      <td>CATEGORIES</td>\n",
       "      <td>0.045333</td>\n",
       "    </tr>\n",
       "    <tr>\n",
       "      <th>16</th>\n",
       "      <td>GENDER_1.0</td>\n",
       "      <td>0.0173704</td>\n",
       "    </tr>\n",
       "    <tr>\n",
       "      <th>0</th>\n",
       "      <td>Questions_count</td>\n",
       "      <td>0.0108677</td>\n",
       "    </tr>\n",
       "    <tr>\n",
       "      <th>18</th>\n",
       "      <td>TYPE_B</td>\n",
       "      <td>0.00622297</td>\n",
       "    </tr>\n",
       "    <tr>\n",
       "      <th>6</th>\n",
       "      <td>Points_earned</td>\n",
       "      <td>0.00480022</td>\n",
       "    </tr>\n",
       "    <tr>\n",
       "      <th>10</th>\n",
       "      <td>CPI_range_status_mean</td>\n",
       "      <td>0.00064705</td>\n",
       "    </tr>\n",
       "    <tr>\n",
       "      <th>11</th>\n",
       "      <td>WEEKDAY_status_mean</td>\n",
       "      <td>0.00022008</td>\n",
       "    </tr>\n",
       "    <tr>\n",
       "      <th>17</th>\n",
       "      <td>GENDER_2.0</td>\n",
       "      <td>0</td>\n",
       "    </tr>\n",
       "    <tr>\n",
       "      <th>19</th>\n",
       "      <td>TYPE_C</td>\n",
       "      <td>0</td>\n",
       "    </tr>\n",
       "    <tr>\n",
       "      <th>20</th>\n",
       "      <td>TYPE_D</td>\n",
       "      <td>0</td>\n",
       "    </tr>\n",
       "  </tbody>\n",
       "</table>\n",
       "</div>"
      ],
      "text/plain": [
       "               column_name shap_importance\n",
       "15    Response_Probability         2.27688\n",
       "1                    TITLE        0.287013\n",
       "13      Points_earned_mean        0.238454\n",
       "5                      CPI        0.183968\n",
       "12  HOUR_range_status_mean        0.157187\n",
       "3                      LOI          0.1533\n",
       "8                  WEEKDAY        0.120584\n",
       "7                      DAY       0.0885408\n",
       "9                     HOUR       0.0855007\n",
       "2                       IR       0.0833419\n",
       "14               TYPE_mean        0.054531\n",
       "4               CATEGORIES        0.045333\n",
       "16              GENDER_1.0       0.0173704\n",
       "0          Questions_count       0.0108677\n",
       "18                  TYPE_B      0.00622297\n",
       "6            Points_earned      0.00480022\n",
       "10   CPI_range_status_mean      0.00064705\n",
       "11     WEEKDAY_status_mean      0.00022008\n",
       "17              GENDER_2.0               0\n",
       "19                  TYPE_C               0\n",
       "20                  TYPE_D               0"
      ]
     },
     "execution_count": 18,
     "metadata": {},
     "output_type": "execute_result"
    }
   ],
   "source": [
    "# Method: Using SHAP values \n",
    "import shap\n",
    "from lightgbm import LGBMClassifier\n",
    "\n",
    "# DF, based on which importance is checked\n",
    "X_importance = X_test\n",
    "\n",
    "# Explain model predictions using shap library:\n",
    "model = LGBMClassifier(random_state=0).fit(X_train, y_train)\n",
    "explainer = shap.TreeExplainer(model)\n",
    "shap_values = explainer.shap_values(X_importance)\n",
    "\n",
    "# Plot summary_plot as barplot:\n",
    "shap.summary_plot(shap_values, X_importance, plot_type='bar')\n",
    "\n",
    "shap_sum = np.abs(shap_values).mean(axis=1)[1,:]\n",
    "importance_df = pd.DataFrame([X_importance.columns.tolist(), shap_sum.tolist()]).T\n",
    "importance_df.columns = ['column_name', 'shap_importance']\n",
    "importance_df = importance_df.sort_values('shap_importance', ascending=False)\n",
    "importance_df"
   ]
  },
  {
   "cell_type": "code",
   "execution_count": 19,
   "metadata": {
    "colab": {
     "base_uri": "https://localhost:8080/"
    },
    "id": "YidT75Q4FAB6",
    "outputId": "bea5ad1f-d2eb-4303-c221-975863e333d5"
   },
   "outputs": [
    {
     "name": "stdout",
     "output_type": "stream",
     "text": [
      "(1217508, 18)\n"
     ]
    }
   ],
   "source": [
    "# feature 중요도가 0 이상\n",
    "SHAP_THRESHOLD = 0\n",
    "features_selected = importance_df.query('shap_importance > @SHAP_THRESHOLD').column_name.tolist()\n",
    "X_train = X_train[features_selected]\n",
    "X_test = X_test[features_selected]\n",
    "print(X_train.shape)"
   ]
  },
  {
   "cell_type": "markdown",
   "metadata": {},
   "source": [
    "# 6.딥러닝 모델링"
   ]
  },
  {
   "cell_type": "code",
   "execution_count": 20,
   "metadata": {
    "colab": {
     "base_uri": "https://localhost:8080/"
    },
    "id": "NYRJE7cOYapj",
    "outputId": "f858fc47-37f0-42a3-9bbb-9869e862f5aa"
   },
   "outputs": [
    {
     "name": "stdout",
     "output_type": "stream",
     "text": [
      "RANDOM SEEDS RESET\n"
     ]
    }
   ],
   "source": [
    "# 매번 모델링을 할 때마다 동일한 결과를 얻기 위해 랜덤 시드 설정 동일하게 유지\n",
    "# 럭키 시드 찾는건 시간상 어려움\n",
    "\n",
    "def reset_seeds(reset_graph_with_backend=None):\n",
    "    if reset_graph_with_backend is not None:\n",
    "        K = reset_graph_with_backend\n",
    "        K.clear_session()\n",
    "        tf.compat.v1.reset_default_graph()\n",
    "        print(\"KERAS AND TENSORFLOW GRAPHS RESET\")  # optional\n",
    "\n",
    "    np.random.seed(1)\n",
    "    random.seed(2)\n",
    "    tf.compat.v1.set_random_seed(3)\n",
    "    os.environ['CUDA_VISIBLE_DEVICES'] = ''  # for GPU\n",
    "    print(\"RANDOM SEEDS RESET\")  # optional\n",
    "   \n",
    "reset_seeds()"
   ]
  },
  {
   "cell_type": "code",
   "execution_count": 22,
   "metadata": {
    "colab": {
     "base_uri": "https://localhost:8080/"
    },
    "id": "8IuEXUU9SVCh",
    "outputId": "e6393b5f-faf0-4d40-d135-ac9bd079b655"
   },
   "outputs": [
    {
     "name": "stdout",
     "output_type": "stream",
     "text": [
      "Model: \"model_1\"\n",
      "_________________________________________________________________\n",
      " Layer (type)                Output Shape              Param #   \n",
      "=================================================================\n",
      " input_2 (InputLayer)        [(None, 18)]              0         \n",
      "                                                                 \n",
      " dense_2 (Dense)             (None, 128)               2432      \n",
      "                                                                 \n",
      " dense_3 (Dense)             (None, 1)                 129       \n",
      "                                                                 \n",
      "=================================================================\n",
      "Total params: 2,561\n",
      "Trainable params: 2,561\n",
      "Non-trainable params: 0\n",
      "_________________________________________________________________\n",
      "Epoch 1/15\n",
      "WARNING:tensorflow:Early stopping conditioned on metric `val_loss` which is not available. Available metrics are: loss,acc,auc_1\n",
      "WARNING:tensorflow:Can save best model only with val_loss available, skipping.\n",
      "1189/1189 - 2s - loss: 0.4142 - acc: 0.8099 - auc_1: 0.8899 - 2s/epoch - 2ms/step\n",
      "Epoch 2/15\n",
      "WARNING:tensorflow:Early stopping conditioned on metric `val_loss` which is not available. Available metrics are: loss,acc,auc_1\n",
      "WARNING:tensorflow:Can save best model only with val_loss available, skipping.\n",
      "1189/1189 - 1s - loss: 0.3938 - acc: 0.8208 - auc_1: 0.9013 - 1s/epoch - 1ms/step\n",
      "Epoch 3/15\n",
      "WARNING:tensorflow:Early stopping conditioned on metric `val_loss` which is not available. Available metrics are: loss,acc,auc_1\n",
      "WARNING:tensorflow:Can save best model only with val_loss available, skipping.\n",
      "1189/1189 - 1s - loss: 0.3890 - acc: 0.8232 - auc_1: 0.9038 - 1s/epoch - 1ms/step\n",
      "Epoch 4/15\n",
      "WARNING:tensorflow:Early stopping conditioned on metric `val_loss` which is not available. Available metrics are: loss,acc,auc_1\n",
      "WARNING:tensorflow:Can save best model only with val_loss available, skipping.\n",
      "1189/1189 - 2s - loss: 0.3854 - acc: 0.8248 - auc_1: 0.9056 - 2s/epoch - 1ms/step\n",
      "Epoch 5/15\n",
      "WARNING:tensorflow:Early stopping conditioned on metric `val_loss` which is not available. Available metrics are: loss,acc,auc_1\n",
      "WARNING:tensorflow:Can save best model only with val_loss available, skipping.\n",
      "1189/1189 - 1s - loss: 0.3828 - acc: 0.8260 - auc_1: 0.9070 - 1s/epoch - 1ms/step\n",
      "Epoch 6/15\n",
      "WARNING:tensorflow:Early stopping conditioned on metric `val_loss` which is not available. Available metrics are: loss,acc,auc_1\n",
      "WARNING:tensorflow:Can save best model only with val_loss available, skipping.\n",
      "1189/1189 - 1s - loss: 0.3809 - acc: 0.8270 - auc_1: 0.9079 - 1s/epoch - 1ms/step\n",
      "Epoch 7/15\n",
      "WARNING:tensorflow:Early stopping conditioned on metric `val_loss` which is not available. Available metrics are: loss,acc,auc_1\n",
      "WARNING:tensorflow:Can save best model only with val_loss available, skipping.\n",
      "1189/1189 - 2s - loss: 0.3795 - acc: 0.8276 - auc_1: 0.9086 - 2s/epoch - 1ms/step\n",
      "Epoch 8/15\n",
      "WARNING:tensorflow:Early stopping conditioned on metric `val_loss` which is not available. Available metrics are: loss,acc,auc_1\n",
      "WARNING:tensorflow:Can save best model only with val_loss available, skipping.\n",
      "1189/1189 - 1s - loss: 0.3784 - acc: 0.8281 - auc_1: 0.9091 - 1s/epoch - 1ms/step\n",
      "Epoch 9/15\n",
      "WARNING:tensorflow:Early stopping conditioned on metric `val_loss` which is not available. Available metrics are: loss,acc,auc_1\n",
      "WARNING:tensorflow:Can save best model only with val_loss available, skipping.\n",
      "1189/1189 - 1s - loss: 0.3775 - acc: 0.8285 - auc_1: 0.9096 - 1s/epoch - 1ms/step\n",
      "Epoch 10/15\n",
      "WARNING:tensorflow:Early stopping conditioned on metric `val_loss` which is not available. Available metrics are: loss,acc,auc_1\n",
      "WARNING:tensorflow:Can save best model only with val_loss available, skipping.\n",
      "1189/1189 - 2s - loss: 0.3768 - acc: 0.8289 - auc_1: 0.9099 - 2s/epoch - 1ms/step\n",
      "Epoch 11/15\n",
      "WARNING:tensorflow:Early stopping conditioned on metric `val_loss` which is not available. Available metrics are: loss,acc,auc_1\n",
      "WARNING:tensorflow:Can save best model only with val_loss available, skipping.\n",
      "1189/1189 - 2s - loss: 0.3762 - acc: 0.8292 - auc_1: 0.9102 - 2s/epoch - 1ms/step\n",
      "Epoch 12/15\n",
      "WARNING:tensorflow:Early stopping conditioned on metric `val_loss` which is not available. Available metrics are: loss,acc,auc_1\n",
      "WARNING:tensorflow:Can save best model only with val_loss available, skipping.\n",
      "1189/1189 - 2s - loss: 0.3756 - acc: 0.8294 - auc_1: 0.9105 - 2s/epoch - 1ms/step\n",
      "Epoch 13/15\n",
      "WARNING:tensorflow:Early stopping conditioned on metric `val_loss` which is not available. Available metrics are: loss,acc,auc_1\n",
      "WARNING:tensorflow:Can save best model only with val_loss available, skipping.\n",
      "1189/1189 - 2s - loss: 0.3751 - acc: 0.8296 - auc_1: 0.9108 - 2s/epoch - 1ms/step\n",
      "Epoch 14/15\n",
      "WARNING:tensorflow:Early stopping conditioned on metric `val_loss` which is not available. Available metrics are: loss,acc,auc_1\n",
      "WARNING:tensorflow:Can save best model only with val_loss available, skipping.\n",
      "1189/1189 - 1s - loss: 0.3747 - acc: 0.8299 - auc_1: 0.9110 - 1s/epoch - 1ms/step\n",
      "Epoch 15/15\n",
      "WARNING:tensorflow:Early stopping conditioned on metric `val_loss` which is not available. Available metrics are: loss,acc,auc_1\n",
      "WARNING:tensorflow:Can save best model only with val_loss available, skipping.\n",
      "1189/1189 - 1s - loss: 0.3743 - acc: 0.8300 - auc_1: 0.9111 - 1s/epoch - 1ms/step\n"
     ]
    }
   ],
   "source": [
    "input = keras.Input(shape=(X_train.shape[1],))\n",
    "\n",
    "x = keras.layers.Dense(128, activation='relu')(input) # 은닉층 낮추기\n",
    "output = keras.layers.Dense(1, activation='sigmoid')(x)\n",
    "\n",
    "DEEP = keras.Model(input, output)\n",
    "\n",
    "DEEP.summary()\n",
    "\n",
    "#Image(keras.utils.model_to_dot(DEEP,show_shapes=True,show_layer_names=False, dpi=100).create(prog='dot', format='png'))\n",
    "\n",
    "DEEP.compile(loss='binary_crossentropy', optimizer='adam', metrics=['acc', keras.metrics.AUC()])\n",
    "\n",
    "callbacks = [keras.callbacks.EarlyStopping(monitor='val_loss', patience = 5),] # patience 낮추기\n",
    "\n",
    "mc = ModelCheckpoint('best_model.h5', monitor='val_loss', mode='min', save_best_only=True)\n",
    "\n",
    "hist = DEEP.fit(X_train, y_train, batch_size=1024, epochs=15, callbacks=[callbacks, mc], shuffle=False, verbose=2)"
   ]
  },
  {
   "cell_type": "code",
   "execution_count": 23,
   "metadata": {
    "id": "-YD7WTiq46dS"
   },
   "outputs": [],
   "source": [
    "pd.DataFrame({'ID': test_id[\"ID\"], 'STATUS': DEEP.predict(X_test).flatten()}).to_csv(os.path.abspath(\"./e_submission\") + \"/dnn.csv\", index=False)"
   ]
  },
  {
   "cell_type": "code",
   "execution_count": null,
   "metadata": {},
   "outputs": [],
   "source": []
  }
 ],
 "metadata": {
  "accelerator": "TPU",
  "colab": {
   "collapsed_sections": [],
   "machine_shape": "hm",
   "name": "컴피티션_1round_best_score.ipynb",
   "provenance": []
  },
  "kernelspec": {
   "display_name": "Python 3",
   "language": "python",
   "name": "python3"
  },
  "language_info": {
   "codemirror_mode": {
    "name": "ipython",
    "version": 3
   },
   "file_extension": ".py",
   "mimetype": "text/x-python",
   "name": "python",
   "nbconvert_exporter": "python",
   "pygments_lexer": "ipython3",
   "version": "3.8.5"
  }
 },
 "nbformat": 4,
 "nbformat_minor": 1
}
