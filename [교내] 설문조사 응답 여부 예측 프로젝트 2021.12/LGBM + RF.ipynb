{
 "cells": [
  {
   "cell_type": "markdown",
   "metadata": {
    "id": "XkkTsy4CXdcj"
   },
   "source": [
    "# 1. Import"
   ]
  },
  {
   "cell_type": "code",
   "execution_count": 1,
   "metadata": {
    "id": "Qi-ckOfpf9ps"
   },
   "outputs": [],
   "source": [
    "# Data Wrangling\n",
    "import pandas as pd\n",
    "import numpy as np\n",
    "import gc\n",
    "\n",
    "# Visualization, EDA\n",
    "import matplotlib.pylab as plt\n",
    "from matplotlib import font_manager, rc\n",
    "import seaborn as sns\n",
    "%matplotlib inline\n",
    "\n",
    "# Korean font\n",
    "#font_name = font_manager.FontProperties(fname=\"c:/Windows/Fonts/malgun.ttf\").get_name()\n",
    "#rc('font', family=font_name)\n",
    "\n",
    "# Preprocessing & Feature Engineering\n",
    "from sklearn.preprocessing import LabelEncoder\n",
    "\n",
    "# Evaluation\n",
    "from sklearn.metrics import roc_auc_score\n",
    "from sklearn.model_selection import cross_val_score\n",
    "\n",
    "# Utility\n",
    "import re\n",
    "import os\n",
    "import time\n",
    "import datetime\n",
    "import random\n",
    "import tensorflow as tf\n",
    "import pickle\n",
    "import joblib\n",
    "import platform\n",
    "import warnings; warnings.filterwarnings(\"ignore\")"
   ]
  },
  {
   "cell_type": "code",
   "execution_count": 2,
   "metadata": {
    "colab": {
     "base_uri": "https://localhost:8080/"
    },
    "id": "XR58KiUTaBbk",
    "outputId": "080c53e8-76e3-4106-f449-f1591e45ec4b"
   },
   "outputs": [],
   "source": [
    "# 코랩에서만 결로 설정\n",
    "#from google.colab import drive\n",
    "#drive.mount('/content/drive')"
   ]
  },
  {
   "cell_type": "code",
   "execution_count": 3,
   "metadata": {},
   "outputs": [
    {
     "data": {
      "text/plain": [
       "62"
      ]
     },
     "execution_count": 3,
     "metadata": {},
     "output_type": "execute_result"
    }
   ],
   "source": [
    "gc.collect()"
   ]
  },
  {
   "cell_type": "markdown",
   "metadata": {
    "id": "9SiDyXJWf9pz"
   },
   "source": [
    "# 2. Read Data"
   ]
  },
  {
   "cell_type": "code",
   "execution_count": 4,
   "metadata": {
    "id": "HAtxE5O9f9p1"
   },
   "outputs": [],
   "source": [
    "# 주피터 파일일때(주석처리)\n",
    "panel = pd.read_csv(os.path.abspath(\"../input\") + '/panel.csv')\n",
    "survey = pd.read_csv(os.path.abspath(\"../input\") + '/survey.csv')\n",
    "response_train = pd.read_csv(os.path.abspath(\"../input\") + '/response_train.csv')\n",
    "response_test = pd.read_csv(os.path.abspath(\"../input\") + '/response_test.csv')\n",
    "\n",
    "# 성별, 지역 값이 Nan 값인 패널 1명 test에도 존재 하지 않아 그냥 drop\n",
    "panel.drop(8315, axis=0, inplace=True)\n",
    "# REGION 컬럼 무의미해서 drop\n",
    "panel.drop(['REGION'], axis=1, inplace=True)"
   ]
  },
  {
   "cell_type": "markdown",
   "metadata": {
    "id": "Wv1UmYQgDrwK"
   },
   "source": [
    "# 3. Feature Create"
   ]
  },
  {
   "cell_type": "markdown",
   "metadata": {
    "id": "iJcAjHjrDrwN"
   },
   "source": [
    "##### (패널 질문 응답수)"
   ]
  },
  {
   "cell_type": "code",
   "execution_count": 5,
   "metadata": {
    "id": "t-UZ-xpV600_"
   },
   "outputs": [],
   "source": [
    "# 패널 질문 COUNT(질문의 성의 판단)\n",
    "panel_Questions = panel.iloc[:,4:]\n",
    "\n",
    "panel = panel.iloc[:,:4]\n",
    "panel_Questions_count = []\n",
    "for i in range(panel_Questions.shape[0]):\n",
    "            panel_Questions_count.append(pd.notna(panel_Questions.iloc[i,:].values).sum())\n",
    "\n",
    "# 패널 질문 응답수\n",
    "panel['Questions_count'] = panel_Questions_count\n",
    "\n",
    "#survey['IR_r'] = survey.IR.replace({0: 0.9})\n",
    "\n",
    "#survey['IR_CPI'] = survey.CPI/survey.IR_r\n",
    "#survey['LOI_CPI'] = survey.CPI/survey.LOI\n",
    "\n",
    "train = response_train.merge(panel).merge(survey)\n",
    "test = response_test.merge(panel).merge(survey).sort_values(by='ID')"
   ]
  },
  {
   "cell_type": "code",
   "execution_count": 6,
   "metadata": {},
   "outputs": [],
   "source": [
    "# train 데이터 분할\n",
    "before_train = train.query(\"TIME<='2021-02-01 00:00:00'\")\n",
    "train = train.query(\"TIME>='2021-02-01 00:00:00'\")"
   ]
  },
  {
   "cell_type": "markdown",
   "metadata": {
    "id": "EuynqF76__Ug"
   },
   "source": [
    "##### (패널 ID별 누적 포인트)"
   ]
  },
  {
   "cell_type": "code",
   "execution_count": 7,
   "metadata": {
    "id": "_nYDxw992gps"
   },
   "outputs": [],
   "source": [
    "# 패널 ID 별 획득 누적 포인트\n",
    "Points_earned = pd.DataFrame(before_train.query('STATUS==1').groupby('userID')['CPI'].agg([('Points_earned',np.sum)])).reset_index()\n",
    "\n",
    "train = train.merge(Points_earned, how='left')\n",
    "train['Points_earned'].fillna(0, inplace = True)\n",
    "test = test.merge(Points_earned, how='left')\n",
    "test['Points_earned'].fillna(0, inplace = True)"
   ]
  },
  {
   "cell_type": "markdown",
   "metadata": {
    "id": "t01KkPQAf9p8"
   },
   "source": [
    "##### (일자, 요일, 시간, 시간별 범위, 시간 범위별 응답확률), (리워드 포인트별 범위, 리워드 범위별 응답 확률)"
   ]
  },
  {
   "cell_type": "code",
   "execution_count": 8,
   "metadata": {
    "id": "VRrotPA-RxG7"
   },
   "outputs": [],
   "source": [
    "data = [train, test]\n",
    "\n",
    "for i in data:\n",
    "    i['TIME'] = i['TIME'].astype(\"datetime64\")\n",
    "    \n",
    "    i['DAY'] = i['TIME'].dt.day\n",
    "    \n",
    "    i['WEEKDAY'] = i['TIME'].dt.dayofweek\n",
    "    \n",
    "    i['HOUR'] = i['TIME'].dt.hour\n",
    "    \n",
    "    i['MONTH'] = i['TIME'].dt.month\n",
    "    \n",
    "WEEKDAY_status_mean = pd.DataFrame(train.groupby('WEEKDAY')['STATUS'].agg([('WEEKDAY_status_mean',np.mean)])).reset_index()\n",
    "\n",
    "train = train.merge(WEEKDAY_status_mean, how='left')\n",
    "test = test.merge(WEEKDAY_status_mean, how='left')"
   ]
  },
  {
   "cell_type": "code",
   "execution_count": 9,
   "metadata": {},
   "outputs": [],
   "source": [
    "train.CATEGORIES = train.CATEGORIES.astype(str)\n",
    "test.CATEGORIES = test.CATEGORIES.astype(str)"
   ]
  },
  {
   "cell_type": "markdown",
   "metadata": {
    "id": "YmDrXvadDrxA"
   },
   "source": [
    "##### (평균 리워드 포인트)"
   ]
  },
  {
   "cell_type": "code",
   "execution_count": 10,
   "metadata": {
    "id": "BQC_pqVDQEhe"
   },
   "outputs": [],
   "source": [
    "# 패널 ID 별 획득 평균 포인트\n",
    "Points_earned_mean = pd.DataFrame(before_train.query('STATUS==1').groupby('userID')['CPI'].agg([('Points_earned_mean',np.mean)])).reset_index()\n",
    "train = train.merge(Points_earned_mean, how='left')\n",
    "train['Points_earned_mean'].fillna(0, inplace = True)\n",
    "test = test.merge(Points_earned_mean, how='left')\n",
    "test['Points_earned_mean'].fillna(0, inplace = True)"
   ]
  },
  {
   "cell_type": "markdown",
   "metadata": {
    "id": "j1t1Hy7hDrxH"
   },
   "source": [
    "##### (TITLE 정규표현식)"
   ]
  },
  {
   "cell_type": "code",
   "execution_count": 11,
   "metadata": {
    "id": "BiWBBzRvn4E-"
   },
   "outputs": [],
   "source": [
    "# [^ ㄱ-ㅣ가-힣] 정규 표현식\n",
    "# 다소 시간이 오래 걸림\n",
    "word_counts = {}\n",
    "def count_word(x):\n",
    "    if x['STATUS'] == 1:\n",
    "        for w in re.sub(r'[^ ㄱ-ㅣ가-힣]', '', x['TITLE']).split():\n",
    "            word_counts[w] = word_counts.get(w, 0) + 1\n",
    "def score_word(x):\n",
    "    score = 0\n",
    "    for w in re.sub(r'[^ ㄱ-ㅣ가-힣]', '', x['TITLE']).split():\n",
    "        score += word_counts.get(w, 0)\n",
    "    return score    \n",
    "            \n",
    "train.apply(count_word, axis=1)\n",
    "train.TITLE = train.apply(score_word, axis=1)\n",
    "test.TITLE = test.apply(score_word, axis=1)"
   ]
  },
  {
   "cell_type": "markdown",
   "metadata": {
    "id": "Lk32GbylDrxN"
   },
   "source": [
    "##### (TYPE 별 응답확률)"
   ]
  },
  {
   "cell_type": "code",
   "execution_count": 12,
   "metadata": {
    "id": "VfYIgA3WDrxO"
   },
   "outputs": [],
   "source": [
    "TYPE_mean = pd.DataFrame(train.groupby('TYPE')['STATUS'].agg([('TYPE_mean',np.mean)])).reset_index()\n",
    "train = train.merge(TYPE_mean, how='left')\n",
    "test = test.merge(TYPE_mean, how='left')"
   ]
  },
  {
   "cell_type": "code",
   "execution_count": 13,
   "metadata": {},
   "outputs": [
    {
     "data": {
      "text/plain": [
       "ID                     0\n",
       "userID                 0\n",
       "surveyID               0\n",
       "TIME                   0\n",
       "BIRTH                  0\n",
       "GENDER                 0\n",
       "TYPE                   0\n",
       "Questions_count        0\n",
       "TITLE                  0\n",
       "IR                     0\n",
       "LOI                    0\n",
       "CATEGORIES             0\n",
       "CPI                    0\n",
       "Points_earned          0\n",
       "DAY                    0\n",
       "WEEKDAY                0\n",
       "HOUR                   0\n",
       "MONTH                  0\n",
       "WEEKDAY_status_mean    0\n",
       "Points_earned_mean     0\n",
       "TYPE_mean              0\n",
       "dtype: int64"
      ]
     },
     "execution_count": 13,
     "metadata": {},
     "output_type": "execute_result"
    }
   ],
   "source": [
    "test.isna().sum()"
   ]
  },
  {
   "cell_type": "code",
   "execution_count": 14,
   "metadata": {},
   "outputs": [],
   "source": [
    "gei = train.query('STATUS == 1').groupby('GENDER')['IR'].agg([('g_i','mean')]).reset_index()\n",
    "train = pd.merge(train, gei, how='left')\n",
    "test = pd.merge(test, gei, how='left')\n",
    "test.g_i = test.g_i.fillna(0)"
   ]
  },
  {
   "cell_type": "code",
   "execution_count": 15,
   "metadata": {},
   "outputs": [
    {
     "data": {
      "text/plain": [
       "userID                 0\n",
       "surveyID               0\n",
       "TIME                   0\n",
       "STATUS                 0\n",
       "BIRTH                  0\n",
       "GENDER                 0\n",
       "TYPE                   0\n",
       "Questions_count        0\n",
       "TITLE                  0\n",
       "IR                     0\n",
       "LOI                    0\n",
       "CATEGORIES             0\n",
       "CPI                    0\n",
       "Points_earned          0\n",
       "DAY                    0\n",
       "WEEKDAY                0\n",
       "HOUR                   0\n",
       "MONTH                  0\n",
       "WEEKDAY_status_mean    0\n",
       "Points_earned_mean     0\n",
       "TYPE_mean              0\n",
       "g_i                    0\n",
       "dtype: int64"
      ]
     },
     "execution_count": 15,
     "metadata": {},
     "output_type": "execute_result"
    }
   ],
   "source": [
    "train.isna().sum()"
   ]
  },
  {
   "cell_type": "markdown",
   "metadata": {
    "id": "sB1qIUPfDrxP"
   },
   "source": [
    "##### (유저 아이디 별 응답확률)"
   ]
  },
  {
   "cell_type": "code",
   "execution_count": 16,
   "metadata": {
    "id": "rGPCpo19DrxQ"
   },
   "outputs": [],
   "source": [
    "respond = train.query('STATUS == 1').groupby('userID')['userID'].agg([('respond',np.size)]).reset_index()\n",
    "total = train.groupby('userID')['userID'].agg([('total',np.size)]).reset_index()\n",
    "\n",
    "train = train.merge(respond).merge(total)\n",
    "\n",
    "train['Response_Probability'] = train['respond'] / train['total']\n",
    "test = pd.merge(test, train.drop_duplicates(subset=['userID'])[['userID', 'Response_Probability']], how='left')\n",
    "test['Response_Probability'] = test['Response_Probability'].fillna(0)\n",
    "\n",
    "del train['respond'], train['total']"
   ]
  },
  {
   "cell_type": "markdown",
   "metadata": {},
   "source": [
    "### 유저ID별 응답한 IR, CPI, LOI 의 평균"
   ]
  },
  {
   "cell_type": "code",
   "execution_count": 18,
   "metadata": {},
   "outputs": [],
   "source": [
    "ID_IR_mean = pd.DataFrame(train.query('STATUS==1').groupby('userID')['IR'].agg([('ID_IR_mean',np.mean)])).reset_index()\n",
    "\n",
    "train = train.merge(ID_IR_mean, how='left')\n",
    "train['ID_IR_mean'].fillna(0, inplace = True)\n",
    "test = test.merge(ID_IR_mean, how='left')\n",
    "test['ID_IR_mean'].fillna(0, inplace = True)"
   ]
  },
  {
   "cell_type": "code",
   "execution_count": 19,
   "metadata": {},
   "outputs": [],
   "source": [
    "ID_LOI_mean = pd.DataFrame(train.query('STATUS==1').groupby('userID')['LOI'].agg([('ID_LOI_mean',np.mean)])).reset_index()\n",
    "\n",
    "train = train.merge(ID_LOI_mean, how='left')\n",
    "train['ID_LOI_mean'].fillna(0, inplace = True)\n",
    "test = test.merge(ID_LOI_mean, how='left')\n",
    "test['ID_LOI_mean'].fillna(0, inplace = True)"
   ]
  },
  {
   "cell_type": "code",
   "execution_count": 20,
   "metadata": {},
   "outputs": [],
   "source": [
    "ID_CPI_mean = pd.DataFrame(train.query('STATUS==1').groupby('userID')['CPI'].agg([('ID_CPI_mean',np.mean)])).reset_index()\n",
    "\n",
    "train = train.merge(ID_CPI_mean, how='left')\n",
    "train['ID_CPI_mean'].fillna(0, inplace = True)\n",
    "test = test.merge(ID_CPI_mean, how='left')\n",
    "test['ID_CPI_mean'].fillna(0, inplace = True)"
   ]
  },
  {
   "cell_type": "markdown",
   "metadata": {},
   "source": [
    "### IR, CPI, LOI별 응답률의 평균"
   ]
  },
  {
   "cell_type": "code",
   "execution_count": 21,
   "metadata": {
    "id": "KcVAn-isWWDR"
   },
   "outputs": [],
   "source": [
    "train_IR = train.groupby('IR')['STATUS'].agg([('STATUS_ratio_IR',np.mean)]).reset_index()"
   ]
  },
  {
   "cell_type": "code",
   "execution_count": 22,
   "metadata": {
    "id": "bhtdLxOKAIX3"
   },
   "outputs": [],
   "source": [
    "train = train.merge(train_IR,on='IR',how='left')\n",
    "test = test.merge(train_IR,on='IR',how='left')"
   ]
  },
  {
   "cell_type": "code",
   "execution_count": 23,
   "metadata": {},
   "outputs": [],
   "source": [
    "test.STATUS_ratio_IR = test.STATUS_ratio_IR.fillna(0)"
   ]
  },
  {
   "cell_type": "code",
   "execution_count": 24,
   "metadata": {
    "id": "VTvHIIkgWWDU"
   },
   "outputs": [],
   "source": [
    "train_LOI = train.groupby('LOI')['STATUS'].agg([('STATUS_ratio_LOI',np.mean)]).reset_index()"
   ]
  },
  {
   "cell_type": "code",
   "execution_count": 25,
   "metadata": {
    "id": "tzUw91QWBV-i"
   },
   "outputs": [],
   "source": [
    "train = train.merge(train_LOI,on='LOI',how='left')\n",
    "test = test.merge(train_LOI,on='LOI',how='left')"
   ]
  },
  {
   "cell_type": "code",
   "execution_count": 26,
   "metadata": {},
   "outputs": [],
   "source": [
    "test.STATUS_ratio_LOI = test.STATUS_ratio_LOI.fillna(0)"
   ]
  },
  {
   "cell_type": "code",
   "execution_count": 27,
   "metadata": {
    "id": "10Fp1AzlWWDX"
   },
   "outputs": [],
   "source": [
    "train_CPI = train.groupby('CPI')['STATUS'].agg([('STATUS_ratio_CPI',np.mean)]).reset_index()"
   ]
  },
  {
   "cell_type": "code",
   "execution_count": 28,
   "metadata": {
    "id": "Q5jOkdW5Bw_w"
   },
   "outputs": [],
   "source": [
    "train = train.merge(train_CPI,on='CPI',how='left')\n",
    "test = test.merge(train_CPI,on='CPI',how='left')"
   ]
  },
  {
   "cell_type": "code",
   "execution_count": 29,
   "metadata": {},
   "outputs": [],
   "source": [
    "test.STATUS_ratio_CPI = test.STATUS_ratio_CPI.fillna(0)"
   ]
  },
  {
   "cell_type": "markdown",
   "metadata": {},
   "source": [
    "### CATEGORIES 라벨인코딩으로 구분"
   ]
  },
  {
   "cell_type": "code",
   "execution_count": 30,
   "metadata": {},
   "outputs": [],
   "source": [
    "features = pd.concat([train.CATEGORIES, test.CATEGORIES]).reset_index(drop=True)"
   ]
  },
  {
   "cell_type": "code",
   "execution_count": 31,
   "metadata": {},
   "outputs": [],
   "source": [
    "features = LabelEncoder().fit_transform(features)"
   ]
  },
  {
   "cell_type": "code",
   "execution_count": 32,
   "metadata": {},
   "outputs": [],
   "source": [
    "train['CATEGORIES'] = features[:train.shape[0]]\n",
    "test['CATEGORIES'] = features[train.shape[0]:]"
   ]
  },
  {
   "cell_type": "markdown",
   "metadata": {},
   "source": [
    "### 시간대별 응답률"
   ]
  },
  {
   "cell_type": "code",
   "execution_count": 33,
   "metadata": {},
   "outputs": [],
   "source": [
    "train_HOUR = train.groupby('HOUR')['STATUS'].agg([('STATUS_ratio_HOUR',np.mean)]).reset_index()"
   ]
  },
  {
   "cell_type": "code",
   "execution_count": 34,
   "metadata": {},
   "outputs": [],
   "source": [
    "train = train.merge(train_HOUR,on='HOUR',how='left')\n",
    "test = test.merge(train_HOUR,on='HOUR',how='left')"
   ]
  },
  {
   "cell_type": "code",
   "execution_count": 35,
   "metadata": {},
   "outputs": [],
   "source": [
    "test.STATUS_ratio_HOUR = test.STATUS_ratio_HOUR.fillna(0)"
   ]
  },
  {
   "cell_type": "markdown",
   "metadata": {},
   "source": [
    "### train의 달 간격으로 응답률을 계산하고 추이 기울기를 계산"
   ]
  },
  {
   "cell_type": "code",
   "execution_count": 36,
   "metadata": {},
   "outputs": [
    {
     "data": {
      "text/html": [
       "<div>\n",
       "<style scoped>\n",
       "    .dataframe tbody tr th:only-of-type {\n",
       "        vertical-align: middle;\n",
       "    }\n",
       "\n",
       "    .dataframe tbody tr th {\n",
       "        vertical-align: top;\n",
       "    }\n",
       "\n",
       "    .dataframe thead th {\n",
       "        text-align: right;\n",
       "    }\n",
       "</style>\n",
       "<table border=\"1\" class=\"dataframe\">\n",
       "  <thead>\n",
       "    <tr style=\"text-align: right;\">\n",
       "      <th></th>\n",
       "      <th>userID</th>\n",
       "      <th>m1</th>\n",
       "      <th>m2</th>\n",
       "      <th>m3</th>\n",
       "      <th>m4</th>\n",
       "    </tr>\n",
       "  </thead>\n",
       "  <tbody>\n",
       "    <tr>\n",
       "      <th>0</th>\n",
       "      <td>p00423</td>\n",
       "      <td>0.720000</td>\n",
       "      <td>0.735294</td>\n",
       "      <td>0.769231</td>\n",
       "      <td>0.700000</td>\n",
       "    </tr>\n",
       "    <tr>\n",
       "      <th>1</th>\n",
       "      <td>p03955</td>\n",
       "      <td>0.357143</td>\n",
       "      <td>0.342857</td>\n",
       "      <td>0.384615</td>\n",
       "      <td>0.259259</td>\n",
       "    </tr>\n",
       "    <tr>\n",
       "      <th>2</th>\n",
       "      <td>p02240</td>\n",
       "      <td>0.560000</td>\n",
       "      <td>0.636364</td>\n",
       "      <td>0.724138</td>\n",
       "      <td>0.678571</td>\n",
       "    </tr>\n",
       "    <tr>\n",
       "      <th>3</th>\n",
       "      <td>p00990</td>\n",
       "      <td>0.218750</td>\n",
       "      <td>0.361111</td>\n",
       "      <td>0.459459</td>\n",
       "      <td>0.520000</td>\n",
       "    </tr>\n",
       "    <tr>\n",
       "      <th>4</th>\n",
       "      <td>p03644</td>\n",
       "      <td>0.450000</td>\n",
       "      <td>0.634146</td>\n",
       "      <td>0.536585</td>\n",
       "      <td>0.735294</td>\n",
       "    </tr>\n",
       "  </tbody>\n",
       "</table>\n",
       "</div>"
      ],
      "text/plain": [
       "   userID        m1        m2        m3        m4\n",
       "0  p00423  0.720000  0.735294  0.769231  0.700000\n",
       "1  p03955  0.357143  0.342857  0.384615  0.259259\n",
       "2  p02240  0.560000  0.636364  0.724138  0.678571\n",
       "3  p00990  0.218750  0.361111  0.459459  0.520000\n",
       "4  p03644  0.450000  0.634146  0.536585  0.735294"
      ]
     },
     "execution_count": 36,
     "metadata": {},
     "output_type": "execute_result"
    }
   ],
   "source": [
    "#마지막 날짜로부터 한달간격으로 응답률을 계산\n",
    "month_to = train['TIME'].max()\n",
    "month_trans = []\n",
    "for i in range(4):\n",
    "    month_from = month_to + pd.DateOffset(months=-1)\n",
    "    month_trans.append(train.query('@month_from < TIME <= @month_to')\n",
    "                      .groupby('userID')['STATUS']\n",
    "                      .agg([(f'm{4-i}', 'mean')])\n",
    "                      .reset_index())\n",
    "    month_to = month_from\n",
    "\n",
    "# 리스트로부터 데이터프레임 변환    \n",
    "f = pd.DataFrame({'userID': train.userID.unique()})\n",
    "for m in month_trans[::-1]:\n",
    "    f = f.merge(m,how='left',on='userID')\n",
    "f = f.fillna(0)\n",
    "f.head()"
   ]
  },
  {
   "cell_type": "code",
   "execution_count": 37,
   "metadata": {},
   "outputs": [],
   "source": [
    "f =f.set_index('userID')"
   ]
  },
  {
   "cell_type": "code",
   "execution_count": 38,
   "metadata": {},
   "outputs": [],
   "source": [
    "#추이 만들기\n",
    "f = f.apply(lambda x: np.polyfit(range(4), x, 1)[0].round(2), axis=1).reset_index().rename(columns = {0:'Trend_M'})"
   ]
  },
  {
   "cell_type": "markdown",
   "metadata": {},
   "source": [
    "### 가중치를 만들어 각 추이 기울기에 가중치를 곱해준 피쳐를 만든다.  (가중치 = 유저가 응답한 survey 수)"
   ]
  },
  {
   "cell_type": "code",
   "execution_count": 40,
   "metadata": {},
   "outputs": [],
   "source": [
    "f2 = train.groupby('userID').STATUS.sum()   #가중치 둘 값"
   ]
  },
  {
   "cell_type": "code",
   "execution_count": 41,
   "metadata": {},
   "outputs": [],
   "source": [
    "f=f.merge(f2,on = 'userID')"
   ]
  },
  {
   "cell_type": "code",
   "execution_count": 42,
   "metadata": {},
   "outputs": [],
   "source": [
    "f.iloc[:,1:] = f.iloc[:,1:].mul(f['STATUS'], axis=0)   #추이 * 가중치"
   ]
  },
  {
   "cell_type": "code",
   "execution_count": 43,
   "metadata": {},
   "outputs": [],
   "source": [
    "f.drop(['STATUS'], axis=1, inplace=True)"
   ]
  },
  {
   "cell_type": "code",
   "execution_count": 44,
   "metadata": {},
   "outputs": [
    {
     "data": {
      "text/html": [
       "<div>\n",
       "<style scoped>\n",
       "    .dataframe tbody tr th:only-of-type {\n",
       "        vertical-align: middle;\n",
       "    }\n",
       "\n",
       "    .dataframe tbody tr th {\n",
       "        vertical-align: top;\n",
       "    }\n",
       "\n",
       "    .dataframe thead th {\n",
       "        text-align: right;\n",
       "    }\n",
       "</style>\n",
       "<table border=\"1\" class=\"dataframe\">\n",
       "  <thead>\n",
       "    <tr style=\"text-align: right;\">\n",
       "      <th></th>\n",
       "      <th>userID</th>\n",
       "      <th>Trend_M</th>\n",
       "    </tr>\n",
       "  </thead>\n",
       "  <tbody>\n",
       "    <tr>\n",
       "      <th>0</th>\n",
       "      <td>p00423</td>\n",
       "      <td>-0.00</td>\n",
       "    </tr>\n",
       "    <tr>\n",
       "      <th>1</th>\n",
       "      <td>p03955</td>\n",
       "      <td>-1.32</td>\n",
       "    </tr>\n",
       "    <tr>\n",
       "      <th>2</th>\n",
       "      <td>p02240</td>\n",
       "      <td>2.72</td>\n",
       "    </tr>\n",
       "    <tr>\n",
       "      <th>3</th>\n",
       "      <td>p00990</td>\n",
       "      <td>5.00</td>\n",
       "    </tr>\n",
       "    <tr>\n",
       "      <th>4</th>\n",
       "      <td>p03644</td>\n",
       "      <td>6.56</td>\n",
       "    </tr>\n",
       "    <tr>\n",
       "      <th>...</th>\n",
       "      <td>...</td>\n",
       "      <td>...</td>\n",
       "    </tr>\n",
       "    <tr>\n",
       "      <th>12139</th>\n",
       "      <td>p15982</td>\n",
       "      <td>0.90</td>\n",
       "    </tr>\n",
       "    <tr>\n",
       "      <th>12140</th>\n",
       "      <td>p14405</td>\n",
       "      <td>-0.10</td>\n",
       "    </tr>\n",
       "    <tr>\n",
       "      <th>12141</th>\n",
       "      <td>p08221</td>\n",
       "      <td>-0.10</td>\n",
       "    </tr>\n",
       "    <tr>\n",
       "      <th>12142</th>\n",
       "      <td>p08463</td>\n",
       "      <td>0.30</td>\n",
       "    </tr>\n",
       "    <tr>\n",
       "      <th>12143</th>\n",
       "      <td>p09750</td>\n",
       "      <td>0.30</td>\n",
       "    </tr>\n",
       "  </tbody>\n",
       "</table>\n",
       "<p>12144 rows × 2 columns</p>\n",
       "</div>"
      ],
      "text/plain": [
       "       userID  Trend_M\n",
       "0      p00423    -0.00\n",
       "1      p03955    -1.32\n",
       "2      p02240     2.72\n",
       "3      p00990     5.00\n",
       "4      p03644     6.56\n",
       "...       ...      ...\n",
       "12139  p15982     0.90\n",
       "12140  p14405    -0.10\n",
       "12141  p08221    -0.10\n",
       "12142  p08463     0.30\n",
       "12143  p09750     0.30\n",
       "\n",
       "[12144 rows x 2 columns]"
      ]
     },
     "execution_count": 44,
     "metadata": {},
     "output_type": "execute_result"
    }
   ],
   "source": [
    "f"
   ]
  },
  {
   "cell_type": "code",
   "execution_count": 45,
   "metadata": {
    "id": "cu-_Ysg-B3Ub"
   },
   "outputs": [],
   "source": [
    "train = train.merge(f,on='userID')\n",
    "test = test.merge(f,on='userID',how='left').fillna(0)"
   ]
  },
  {
   "cell_type": "markdown",
   "metadata": {
    "id": "eR7ybrefDrxS"
   },
   "source": [
    "# 4. Feature Engineering"
   ]
  },
  {
   "cell_type": "markdown",
   "metadata": {
    "id": "k38hLtOBjIfp"
   },
   "source": [
    "##### 무의미한 feature 삭제"
   ]
  },
  {
   "cell_type": "code",
   "execution_count": 46,
   "metadata": {
    "id": "1U4Mhs5k_YUI"
   },
   "outputs": [],
   "source": [
    "y_train = train['STATUS']\n",
    "train.drop('STATUS', axis=1, inplace=True)\n",
    "\n",
    "test_id = test.iloc[:,0:1]\n",
    "test.drop('ID', axis=1, inplace=True)\n",
    "\n",
    "#성능 개선에 무의미한 Feature 제거\n",
    "train.drop(['userID', 'surveyID', 'TIME'], axis=1, inplace=True)\n",
    "test.drop(['userID', 'surveyID', 'TIME'], axis=1, inplace=True)"
   ]
  },
  {
   "cell_type": "markdown",
   "metadata": {
    "id": "hgsv5mlKDrxV"
   },
   "source": [
    "##### Feature 전처리"
   ]
  },
  {
   "cell_type": "code",
   "execution_count": 47,
   "metadata": {
    "id": "6kRAhQYQEEqa"
   },
   "outputs": [],
   "source": [
    "# train, test 병합 후 결측값 처리\n",
    "features = pd.concat([train, test]).reset_index(drop=True)\n",
    "\n",
    "features = features.astype({'GENDER':'object'})\n",
    "\n",
    "cat = features.select_dtypes(include=['object','category']).columns.to_list()# 범주형 변수\n",
    "num = features.select_dtypes(exclude=['object','category']).columns.to_list()# 수치형 변수"
   ]
  },
  {
   "cell_type": "code",
   "execution_count": 48,
   "metadata": {
    "colab": {
     "base_uri": "https://localhost:8080/",
     "height": 390
    },
    "id": "UTo_C4X8ICie",
    "outputId": "08c72c7c-5328-480b-aeca-61318c9990b9",
    "scrolled": false
   },
   "outputs": [
    {
     "data": {
      "image/png": "[encoded data removed]",
      "text/plain": [
       "<Figure size 576x288 with 1 Axes>"
      ]
     },
     "metadata": {},
     "output_type": "display_data"
    }
   ],
   "source": [
    "# 이상치 제거 전 수치형 변수 시각화\n",
    "plt.figure(figsize = (8, 4))\n",
    "features[num].boxplot()\n",
    "plt.xticks(fontsize = 10, rotation = 90)\n",
    "plt.show()"
   ]
  },
  {
   "cell_type": "code",
   "execution_count": 49,
   "metadata": {
    "colab": {
     "base_uri": "https://localhost:8080/",
     "height": 390
    },
    "id": "a5VtiE_bHy3C",
    "outputId": "12680e42-1dc5-46ea-8bd4-2adfe95f705c"
   },
   "outputs": [
    {
     "data": {
      "image/png": "[encoded data removed]",
      "text/plain": [
       "<Figure size 576x288 with 1 Axes>"
      ]
     },
     "metadata": {},
     "output_type": "display_data"
    }
   ],
   "source": [
    "# 수치형 변수 이상치 제거\n",
    "features[num] = features[num].apply(lambda x: x.clip(x.quantile(.05), x.quantile(.95)), axis=0)\n",
    "\n",
    "# 이상치 제거 후 수치형 변수 시각화\n",
    "plt.figure(figsize = (8, 4))\n",
    "features[num].boxplot()\n",
    "plt.xticks(fontsize = 10, rotation = 90)\n",
    "plt.show()"
   ]
  },
  {
   "cell_type": "code",
   "execution_count": 50,
   "metadata": {
    "id": "dpXQ5M3PsYFQ"
   },
   "outputs": [],
   "source": [
    "#StandardScaler\n",
    "from sklearn.preprocessing import StandardScaler\n",
    "\n",
    "# 스케일링 전 train, test 분할\n",
    "X_train = features.iloc[:y_train.shape[0], :]\n",
    "X_test = features.iloc[y_train.shape[0]:, :]\n",
    "\n",
    "scaler = StandardScaler()\n",
    "X_train[num] = scaler.fit_transform(X_train[num])\n",
    "X_test[num] = scaler.transform(X_test[num])"
   ]
  },
  {
   "cell_type": "code",
   "execution_count": 51,
   "metadata": {
    "id": "z0FazMQNYzQD"
   },
   "outputs": [],
   "source": [
    "# 원핫 인코딩\n",
    "df_encoded = pd.get_dummies(pd.concat([X_train, X_test]), columns=cat)\n",
    "X_train = df_encoded[:X_train.shape[0]]\n",
    "X_test = df_encoded[X_train.shape[0]:]"
   ]
  },
  {
   "cell_type": "code",
   "execution_count": 52,
   "metadata": {},
   "outputs": [
    {
     "data": {
      "text/plain": [
       "Index(['BIRTH', 'Questions_count', 'TITLE', 'IR', 'LOI', 'CATEGORIES', 'CPI',\n",
       "       'Points_earned', 'DAY', 'WEEKDAY', 'HOUR', 'MONTH',\n",
       "       'WEEKDAY_status_mean', 'Points_earned_mean', 'TYPE_mean', 'g_i',\n",
       "       'Response_Probability', 'ID_IR_mean', 'ID_LOI_mean', 'ID_CPI_mean',\n",
       "       'STATUS_ratio_IR', 'STATUS_ratio_LOI', 'STATUS_ratio_CPI',\n",
       "       'STATUS_ratio_HOUR', 'Trend_M', 'GENDER_1.0', 'GENDER_2.0', 'TYPE_B',\n",
       "       'TYPE_C', 'TYPE_D'],\n",
       "      dtype='object')"
      ]
     },
     "execution_count": 52,
     "metadata": {},
     "output_type": "execute_result"
    }
   ],
   "source": [
    "X_train.columns"
   ]
  },
  {
   "cell_type": "markdown",
   "metadata": {
    "id": "2PAK14y0h_RC"
   },
   "source": [
    "# 5. Feature Selection"
   ]
  },
  {
   "cell_type": "code",
   "execution_count": 53,
   "metadata": {
    "colab": {
     "base_uri": "https://localhost:8080/",
     "height": 1000
    },
    "id": "5quGcTZY_vZu",
    "outputId": "f86015be-7ae2-46d7-af8e-84652062c3c2",
    "scrolled": false
   },
   "outputs": [
    {
     "data": {
      "image/png": "[encoded data removed]",
      "text/plain": [
       "<Figure size 576x684 with 1 Axes>"
      ]
     },
     "metadata": {},
     "output_type": "display_data"
    },
    {
     "data": {
      "text/html": [
       "<div>\n",
       "<style scoped>\n",
       "    .dataframe tbody tr th:only-of-type {\n",
       "        vertical-align: middle;\n",
       "    }\n",
       "\n",
       "    .dataframe tbody tr th {\n",
       "        vertical-align: top;\n",
       "    }\n",
       "\n",
       "    .dataframe thead th {\n",
       "        text-align: right;\n",
       "    }\n",
       "</style>\n",
       "<table border=\"1\" class=\"dataframe\">\n",
       "  <thead>\n",
       "    <tr style=\"text-align: right;\">\n",
       "      <th></th>\n",
       "      <th>column_name</th>\n",
       "      <th>shap_importance</th>\n",
       "    </tr>\n",
       "  </thead>\n",
       "  <tbody>\n",
       "    <tr>\n",
       "      <th>16</th>\n",
       "      <td>Response_Probability</td>\n",
       "      <td>2.22554</td>\n",
       "    </tr>\n",
       "    <tr>\n",
       "      <th>22</th>\n",
       "      <td>STATUS_ratio_CPI</td>\n",
       "      <td>0.434951</td>\n",
       "    </tr>\n",
       "    <tr>\n",
       "      <th>23</th>\n",
       "      <td>STATUS_ratio_HOUR</td>\n",
       "      <td>0.209589</td>\n",
       "    </tr>\n",
       "    <tr>\n",
       "      <th>2</th>\n",
       "      <td>TITLE</td>\n",
       "      <td>0.137088</td>\n",
       "    </tr>\n",
       "    <tr>\n",
       "      <th>18</th>\n",
       "      <td>ID_LOI_mean</td>\n",
       "      <td>0.131715</td>\n",
       "    </tr>\n",
       "    <tr>\n",
       "      <th>17</th>\n",
       "      <td>ID_IR_mean</td>\n",
       "      <td>0.125134</td>\n",
       "    </tr>\n",
       "    <tr>\n",
       "      <th>11</th>\n",
       "      <td>MONTH</td>\n",
       "      <td>0.110577</td>\n",
       "    </tr>\n",
       "    <tr>\n",
       "      <th>24</th>\n",
       "      <td>Trend_M</td>\n",
       "      <td>0.110026</td>\n",
       "    </tr>\n",
       "    <tr>\n",
       "      <th>9</th>\n",
       "      <td>WEEKDAY</td>\n",
       "      <td>0.0985461</td>\n",
       "    </tr>\n",
       "    <tr>\n",
       "      <th>19</th>\n",
       "      <td>ID_CPI_mean</td>\n",
       "      <td>0.0764337</td>\n",
       "    </tr>\n",
       "    <tr>\n",
       "      <th>8</th>\n",
       "      <td>DAY</td>\n",
       "      <td>0.0764124</td>\n",
       "    </tr>\n",
       "    <tr>\n",
       "      <th>20</th>\n",
       "      <td>STATUS_ratio_IR</td>\n",
       "      <td>0.0702511</td>\n",
       "    </tr>\n",
       "    <tr>\n",
       "      <th>10</th>\n",
       "      <td>HOUR</td>\n",
       "      <td>0.0580528</td>\n",
       "    </tr>\n",
       "    <tr>\n",
       "      <th>3</th>\n",
       "      <td>IR</td>\n",
       "      <td>0.0477993</td>\n",
       "    </tr>\n",
       "    <tr>\n",
       "      <th>5</th>\n",
       "      <td>CATEGORIES</td>\n",
       "      <td>0.044749</td>\n",
       "    </tr>\n",
       "    <tr>\n",
       "      <th>4</th>\n",
       "      <td>LOI</td>\n",
       "      <td>0.0391183</td>\n",
       "    </tr>\n",
       "    <tr>\n",
       "      <th>21</th>\n",
       "      <td>STATUS_ratio_LOI</td>\n",
       "      <td>0.0328795</td>\n",
       "    </tr>\n",
       "    <tr>\n",
       "      <th>6</th>\n",
       "      <td>CPI</td>\n",
       "      <td>0.0259356</td>\n",
       "    </tr>\n",
       "    <tr>\n",
       "      <th>14</th>\n",
       "      <td>TYPE_mean</td>\n",
       "      <td>0.0240854</td>\n",
       "    </tr>\n",
       "    <tr>\n",
       "      <th>0</th>\n",
       "      <td>BIRTH</td>\n",
       "      <td>0.0100625</td>\n",
       "    </tr>\n",
       "    <tr>\n",
       "      <th>27</th>\n",
       "      <td>TYPE_B</td>\n",
       "      <td>0.00755728</td>\n",
       "    </tr>\n",
       "    <tr>\n",
       "      <th>13</th>\n",
       "      <td>Points_earned_mean</td>\n",
       "      <td>0.00554307</td>\n",
       "    </tr>\n",
       "    <tr>\n",
       "      <th>15</th>\n",
       "      <td>g_i</td>\n",
       "      <td>0.00479465</td>\n",
       "    </tr>\n",
       "    <tr>\n",
       "      <th>7</th>\n",
       "      <td>Points_earned</td>\n",
       "      <td>0.00313565</td>\n",
       "    </tr>\n",
       "    <tr>\n",
       "      <th>1</th>\n",
       "      <td>Questions_count</td>\n",
       "      <td>0.00198456</td>\n",
       "    </tr>\n",
       "    <tr>\n",
       "      <th>12</th>\n",
       "      <td>WEEKDAY_status_mean</td>\n",
       "      <td>1.21158e-05</td>\n",
       "    </tr>\n",
       "    <tr>\n",
       "      <th>25</th>\n",
       "      <td>GENDER_1.0</td>\n",
       "      <td>0</td>\n",
       "    </tr>\n",
       "    <tr>\n",
       "      <th>26</th>\n",
       "      <td>GENDER_2.0</td>\n",
       "      <td>0</td>\n",
       "    </tr>\n",
       "    <tr>\n",
       "      <th>28</th>\n",
       "      <td>TYPE_C</td>\n",
       "      <td>0</td>\n",
       "    </tr>\n",
       "    <tr>\n",
       "      <th>29</th>\n",
       "      <td>TYPE_D</td>\n",
       "      <td>0</td>\n",
       "    </tr>\n",
       "  </tbody>\n",
       "</table>\n",
       "</div>"
      ],
      "text/plain": [
       "             column_name shap_importance\n",
       "16  Response_Probability         2.22554\n",
       "22      STATUS_ratio_CPI        0.434951\n",
       "23     STATUS_ratio_HOUR        0.209589\n",
       "2                  TITLE        0.137088\n",
       "18           ID_LOI_mean        0.131715\n",
       "17            ID_IR_mean        0.125134\n",
       "11                 MONTH        0.110577\n",
       "24               Trend_M        0.110026\n",
       "9                WEEKDAY       0.0985461\n",
       "19           ID_CPI_mean       0.0764337\n",
       "8                    DAY       0.0764124\n",
       "20       STATUS_ratio_IR       0.0702511\n",
       "10                  HOUR       0.0580528\n",
       "3                     IR       0.0477993\n",
       "5             CATEGORIES        0.044749\n",
       "4                    LOI       0.0391183\n",
       "21      STATUS_ratio_LOI       0.0328795\n",
       "6                    CPI       0.0259356\n",
       "14             TYPE_mean       0.0240854\n",
       "0                  BIRTH       0.0100625\n",
       "27                TYPE_B      0.00755728\n",
       "13    Points_earned_mean      0.00554307\n",
       "15                   g_i      0.00479465\n",
       "7          Points_earned      0.00313565\n",
       "1        Questions_count      0.00198456\n",
       "12   WEEKDAY_status_mean     1.21158e-05\n",
       "25            GENDER_1.0               0\n",
       "26            GENDER_2.0               0\n",
       "28                TYPE_C               0\n",
       "29                TYPE_D               0"
      ]
     },
     "execution_count": 53,
     "metadata": {},
     "output_type": "execute_result"
    }
   ],
   "source": [
    "# Method: Using SHAP values \n",
    "import shap\n",
    "from lightgbm import LGBMClassifier\n",
    "\n",
    "# DF, based on which importance is checked\n",
    "X_importance = X_test\n",
    "\n",
    "# Explain model predictions using shap library:\n",
    "model = LGBMClassifier(random_state=0).fit(X_train, y_train)\n",
    "explainer = shap.TreeExplainer(model)\n",
    "shap_values = explainer.shap_values(X_importance)\n",
    "\n",
    "# Plot summary_plot as barplot:\n",
    "shap.summary_plot(shap_values, X_importance, plot_type='bar')\n",
    "\n",
    "shap_sum = np.abs(shap_values).mean(axis=1)[1,:]\n",
    "importance_df = pd.DataFrame([X_importance.columns.tolist(), shap_sum.tolist()]).T\n",
    "importance_df.columns = ['column_name', 'shap_importance']\n",
    "importance_df = importance_df.sort_values('shap_importance', ascending=False)\n",
    "importance_df"
   ]
  },
  {
   "cell_type": "code",
   "execution_count": 54,
   "metadata": {
    "colab": {
     "base_uri": "https://localhost:8080/"
    },
    "id": "YidT75Q4FAB6",
    "outputId": "bea5ad1f-d2eb-4303-c221-975863e333d5"
   },
   "outputs": [
    {
     "name": "stdout",
     "output_type": "stream",
     "text": [
      "(1217508, 26)\n"
     ]
    }
   ],
   "source": [
    "# feature 중요도가 0 이상\n",
    "SHAP_THRESHOLD = 0\n",
    "features_selected = importance_df.query('shap_importance > @SHAP_THRESHOLD').column_name.tolist()\n",
    "X_train = X_train[features_selected]\n",
    "X_test = X_test[features_selected]\n",
    "print(X_train.shape)"
   ]
  },
  {
   "cell_type": "markdown",
   "metadata": {},
   "source": [
    "# Modeling"
   ]
  },
  {
   "cell_type": "code",
   "execution_count": 55,
   "metadata": {},
   "outputs": [],
   "source": [
    "from lightgbm import LGBMClassifier\n",
    "\n",
    "# 모델\n",
    "lgbm_clf = LGBMClassifier(random_state = 20182817,  n_estimators=500)"
   ]
  },
  {
   "cell_type": "code",
   "execution_count": 56,
   "metadata": {
    "scrolled": true
   },
   "outputs": [
    {
     "name": "stdout",
     "output_type": "stream",
     "text": [
      "[1]\ttraining's auc: 0.894318\ttraining's binary_logloss: 0.640931\n",
      "Training until validation scores don't improve for 10 rounds\n",
      "[2]\ttraining's auc: 0.89603\ttraining's binary_logloss: 0.603936\n",
      "[3]\ttraining's auc: 0.897708\ttraining's binary_logloss: 0.573273\n",
      "[4]\ttraining's auc: 0.898365\ttraining's binary_logloss: 0.547568\n",
      "[5]\ttraining's auc: 0.899284\ttraining's binary_logloss: 0.525823\n",
      "[6]\ttraining's auc: 0.899751\ttraining's binary_logloss: 0.507403\n",
      "[7]\ttraining's auc: 0.900139\ttraining's binary_logloss: 0.491622\n",
      "[8]\ttraining's auc: 0.900409\ttraining's binary_logloss: 0.478014\n",
      "[9]\ttraining's auc: 0.900877\ttraining's binary_logloss: 0.466208\n",
      "[10]\ttraining's auc: 0.90119\ttraining's binary_logloss: 0.456135\n",
      "[11]\ttraining's auc: 0.901487\ttraining's binary_logloss: 0.447345\n",
      "[12]\ttraining's auc: 0.901955\ttraining's binary_logloss: 0.439618\n",
      "[13]\ttraining's auc: 0.902245\ttraining's binary_logloss: 0.432945\n",
      "[14]\ttraining's auc: 0.902581\ttraining's binary_logloss: 0.427061\n",
      "[15]\ttraining's auc: 0.902991\ttraining's binary_logloss: 0.421827\n",
      "[16]\ttraining's auc: 0.9037\ttraining's binary_logloss: 0.416989\n",
      "[17]\ttraining's auc: 0.903961\ttraining's binary_logloss: 0.41304\n",
      "[18]\ttraining's auc: 0.904495\ttraining's binary_logloss: 0.40921\n",
      "[19]\ttraining's auc: 0.904697\ttraining's binary_logloss: 0.406131\n",
      "[20]\ttraining's auc: 0.905228\ttraining's binary_logloss: 0.403051\n",
      "[21]\ttraining's auc: 0.905928\ttraining's binary_logloss: 0.400099\n",
      "[22]\ttraining's auc: 0.906326\ttraining's binary_logloss: 0.397798\n",
      "[23]\ttraining's auc: 0.906673\ttraining's binary_logloss: 0.395588\n",
      "[24]\ttraining's auc: 0.906986\ttraining's binary_logloss: 0.393683\n",
      "[25]\ttraining's auc: 0.907354\ttraining's binary_logloss: 0.391868\n",
      "[26]\ttraining's auc: 0.907598\ttraining's binary_logloss: 0.390324\n",
      "[27]\ttraining's auc: 0.908266\ttraining's binary_logloss: 0.388376\n",
      "[28]\ttraining's auc: 0.908529\ttraining's binary_logloss: 0.387032\n",
      "[29]\ttraining's auc: 0.908972\ttraining's binary_logloss: 0.385599\n",
      "[30]\ttraining's auc: 0.909456\ttraining's binary_logloss: 0.384127\n",
      "[31]\ttraining's auc: 0.909683\ttraining's binary_logloss: 0.383124\n",
      "[32]\ttraining's auc: 0.910109\ttraining's binary_logloss: 0.381893\n",
      "[33]\ttraining's auc: 0.9105\ttraining's binary_logloss: 0.3807\n",
      "[34]\ttraining's auc: 0.911028\ttraining's binary_logloss: 0.379335\n",
      "[35]\ttraining's auc: 0.911314\ttraining's binary_logloss: 0.378431\n",
      "[36]\ttraining's auc: 0.91157\ttraining's binary_logloss: 0.377614\n",
      "[37]\ttraining's auc: 0.912017\ttraining's binary_logloss: 0.376569\n",
      "[38]\ttraining's auc: 0.91254\ttraining's binary_logloss: 0.3754\n",
      "[39]\ttraining's auc: 0.912731\ttraining's binary_logloss: 0.374767\n",
      "[40]\ttraining's auc: 0.913234\ttraining's binary_logloss: 0.373635\n",
      "[41]\ttraining's auc: 0.913651\ttraining's binary_logloss: 0.372655\n",
      "[42]\ttraining's auc: 0.914158\ttraining's binary_logloss: 0.371486\n",
      "[43]\ttraining's auc: 0.914503\ttraining's binary_logloss: 0.370718\n",
      "[44]\ttraining's auc: 0.914846\ttraining's binary_logloss: 0.369927\n",
      "[45]\ttraining's auc: 0.915183\ttraining's binary_logloss: 0.36909\n",
      "[46]\ttraining's auc: 0.915368\ttraining's binary_logloss: 0.368531\n",
      "[47]\ttraining's auc: 0.915582\ttraining's binary_logloss: 0.367991\n",
      "[48]\ttraining's auc: 0.9158\ttraining's binary_logloss: 0.367422\n",
      "[49]\ttraining's auc: 0.916151\ttraining's binary_logloss: 0.366674\n",
      "[50]\ttraining's auc: 0.916477\ttraining's binary_logloss: 0.366018\n",
      "[51]\ttraining's auc: 0.916679\ttraining's binary_logloss: 0.365528\n",
      "[52]\ttraining's auc: 0.91707\ttraining's binary_logloss: 0.364713\n",
      "[53]\ttraining's auc: 0.917417\ttraining's binary_logloss: 0.363932\n",
      "[54]\ttraining's auc: 0.917704\ttraining's binary_logloss: 0.363325\n",
      "[55]\ttraining's auc: 0.917846\ttraining's binary_logloss: 0.362948\n",
      "[56]\ttraining's auc: 0.918283\ttraining's binary_logloss: 0.362049\n",
      "[57]\ttraining's auc: 0.918418\ttraining's binary_logloss: 0.361698\n",
      "[58]\ttraining's auc: 0.918574\ttraining's binary_logloss: 0.361257\n",
      "[59]\ttraining's auc: 0.918902\ttraining's binary_logloss: 0.360563\n",
      "[60]\ttraining's auc: 0.919238\ttraining's binary_logloss: 0.359859\n",
      "[61]\ttraining's auc: 0.919454\ttraining's binary_logloss: 0.359377\n",
      "[62]\ttraining's auc: 0.91958\ttraining's binary_logloss: 0.35905\n",
      "[63]\ttraining's auc: 0.919891\ttraining's binary_logloss: 0.358388\n",
      "[64]\ttraining's auc: 0.92004\ttraining's binary_logloss: 0.35802\n",
      "[65]\ttraining's auc: 0.920146\ttraining's binary_logloss: 0.357736\n",
      "[66]\ttraining's auc: 0.920353\ttraining's binary_logloss: 0.357263\n",
      "[67]\ttraining's auc: 0.920626\ttraining's binary_logloss: 0.356673\n",
      "[68]\ttraining's auc: 0.920707\ttraining's binary_logloss: 0.356456\n",
      "[69]\ttraining's auc: 0.920849\ttraining's binary_logloss: 0.356111\n",
      "[70]\ttraining's auc: 0.920981\ttraining's binary_logloss: 0.355789\n",
      "[71]\ttraining's auc: 0.921119\ttraining's binary_logloss: 0.355501\n",
      "[72]\ttraining's auc: 0.921298\ttraining's binary_logloss: 0.3551\n",
      "[73]\ttraining's auc: 0.921442\ttraining's binary_logloss: 0.354774\n",
      "[74]\ttraining's auc: 0.921594\ttraining's binary_logloss: 0.3544\n",
      "[75]\ttraining's auc: 0.921701\ttraining's binary_logloss: 0.354136\n",
      "[76]\ttraining's auc: 0.921939\ttraining's binary_logloss: 0.353607\n",
      "[77]\ttraining's auc: 0.922043\ttraining's binary_logloss: 0.353359\n",
      "[78]\ttraining's auc: 0.922249\ttraining's binary_logloss: 0.352922\n",
      "[79]\ttraining's auc: 0.922329\ttraining's binary_logloss: 0.35272\n",
      "[80]\ttraining's auc: 0.922475\ttraining's binary_logloss: 0.352399\n",
      "[81]\ttraining's auc: 0.92258\ttraining's binary_logloss: 0.352155\n",
      "[82]\ttraining's auc: 0.922676\ttraining's binary_logloss: 0.35191\n",
      "[83]\ttraining's auc: 0.922768\ttraining's binary_logloss: 0.351679\n",
      "[84]\ttraining's auc: 0.922853\ttraining's binary_logloss: 0.351481\n",
      "[85]\ttraining's auc: 0.922944\ttraining's binary_logloss: 0.351248\n",
      "[86]\ttraining's auc: 0.923071\ttraining's binary_logloss: 0.350974\n",
      "[87]\ttraining's auc: 0.923243\ttraining's binary_logloss: 0.350596\n",
      "[88]\ttraining's auc: 0.923407\ttraining's binary_logloss: 0.350223\n",
      "[89]\ttraining's auc: 0.923491\ttraining's binary_logloss: 0.350003\n",
      "[90]\ttraining's auc: 0.923658\ttraining's binary_logloss: 0.349626\n",
      "[91]\ttraining's auc: 0.923712\ttraining's binary_logloss: 0.349476\n",
      "[92]\ttraining's auc: 0.923796\ttraining's binary_logloss: 0.349246\n",
      "[93]\ttraining's auc: 0.923843\ttraining's binary_logloss: 0.349127\n",
      "[94]\ttraining's auc: 0.923983\ttraining's binary_logloss: 0.34885\n",
      "[95]\ttraining's auc: 0.924039\ttraining's binary_logloss: 0.348702\n",
      "[96]\ttraining's auc: 0.924126\ttraining's binary_logloss: 0.348475\n",
      "[97]\ttraining's auc: 0.924263\ttraining's binary_logloss: 0.348169\n",
      "[98]\ttraining's auc: 0.924446\ttraining's binary_logloss: 0.347744\n",
      "[99]\ttraining's auc: 0.924554\ttraining's binary_logloss: 0.347495\n",
      "[100]\ttraining's auc: 0.924681\ttraining's binary_logloss: 0.347203\n",
      "[101]\ttraining's auc: 0.924781\ttraining's binary_logloss: 0.346956\n",
      "[102]\ttraining's auc: 0.924821\ttraining's binary_logloss: 0.346855\n",
      "[103]\ttraining's auc: 0.924907\ttraining's binary_logloss: 0.346633\n",
      "[104]\ttraining's auc: 0.924984\ttraining's binary_logloss: 0.346439\n",
      "[105]\ttraining's auc: 0.925089\ttraining's binary_logloss: 0.346221\n",
      "[106]\ttraining's auc: 0.925183\ttraining's binary_logloss: 0.345989\n",
      "[107]\ttraining's auc: 0.925296\ttraining's binary_logloss: 0.345729\n",
      "[108]\ttraining's auc: 0.925321\ttraining's binary_logloss: 0.345651\n",
      "[109]\ttraining's auc: 0.925363\ttraining's binary_logloss: 0.345553\n",
      "[110]\ttraining's auc: 0.925454\ttraining's binary_logloss: 0.345342\n",
      "[111]\ttraining's auc: 0.925494\ttraining's binary_logloss: 0.345228\n",
      "[112]\ttraining's auc: 0.925595\ttraining's binary_logloss: 0.345003\n",
      "[113]\ttraining's auc: 0.925671\ttraining's binary_logloss: 0.344846\n",
      "[114]\ttraining's auc: 0.925793\ttraining's binary_logloss: 0.344548\n",
      "[115]\ttraining's auc: 0.925819\ttraining's binary_logloss: 0.344466\n",
      "[116]\ttraining's auc: 0.925888\ttraining's binary_logloss: 0.344294\n",
      "[117]\ttraining's auc: 0.925946\ttraining's binary_logloss: 0.344148\n",
      "[118]\ttraining's auc: 0.926016\ttraining's binary_logloss: 0.343988\n",
      "[119]\ttraining's auc: 0.926072\ttraining's binary_logloss: 0.343859\n",
      "[120]\ttraining's auc: 0.926194\ttraining's binary_logloss: 0.343572\n",
      "[121]\ttraining's auc: 0.926242\ttraining's binary_logloss: 0.343452\n",
      "[122]\ttraining's auc: 0.926301\ttraining's binary_logloss: 0.343306\n",
      "[123]\ttraining's auc: 0.926352\ttraining's binary_logloss: 0.343153\n",
      "[124]\ttraining's auc: 0.926389\ttraining's binary_logloss: 0.343066\n"
     ]
    },
    {
     "name": "stdout",
     "output_type": "stream",
     "text": [
      "[125]\ttraining's auc: 0.92651\ttraining's binary_logloss: 0.342799\n",
      "[126]\ttraining's auc: 0.926585\ttraining's binary_logloss: 0.342609\n",
      "[127]\ttraining's auc: 0.926621\ttraining's binary_logloss: 0.342507\n",
      "[128]\ttraining's auc: 0.926651\ttraining's binary_logloss: 0.342416\n",
      "[129]\ttraining's auc: 0.926702\ttraining's binary_logloss: 0.342272\n",
      "[130]\ttraining's auc: 0.926828\ttraining's binary_logloss: 0.342011\n",
      "[131]\ttraining's auc: 0.926906\ttraining's binary_logloss: 0.341827\n",
      "[132]\ttraining's auc: 0.926931\ttraining's binary_logloss: 0.341754\n",
      "[133]\ttraining's auc: 0.927001\ttraining's binary_logloss: 0.341604\n",
      "[134]\ttraining's auc: 0.927046\ttraining's binary_logloss: 0.341496\n",
      "[135]\ttraining's auc: 0.927183\ttraining's binary_logloss: 0.341184\n",
      "[136]\ttraining's auc: 0.927242\ttraining's binary_logloss: 0.341052\n",
      "[137]\ttraining's auc: 0.927297\ttraining's binary_logloss: 0.340924\n",
      "[138]\ttraining's auc: 0.927324\ttraining's binary_logloss: 0.340856\n",
      "[139]\ttraining's auc: 0.927404\ttraining's binary_logloss: 0.340652\n",
      "[140]\ttraining's auc: 0.927428\ttraining's binary_logloss: 0.340586\n",
      "[141]\ttraining's auc: 0.927488\ttraining's binary_logloss: 0.34046\n",
      "[142]\ttraining's auc: 0.927529\ttraining's binary_logloss: 0.340361\n",
      "[143]\ttraining's auc: 0.927575\ttraining's binary_logloss: 0.340255\n",
      "[144]\ttraining's auc: 0.927601\ttraining's binary_logloss: 0.340172\n",
      "[145]\ttraining's auc: 0.927647\ttraining's binary_logloss: 0.340041\n",
      "[146]\ttraining's auc: 0.927781\ttraining's binary_logloss: 0.339728\n",
      "[147]\ttraining's auc: 0.927822\ttraining's binary_logloss: 0.339632\n",
      "[148]\ttraining's auc: 0.927858\ttraining's binary_logloss: 0.339539\n",
      "[149]\ttraining's auc: 0.927909\ttraining's binary_logloss: 0.339427\n",
      "[150]\ttraining's auc: 0.927955\ttraining's binary_logloss: 0.339327\n",
      "[151]\ttraining's auc: 0.927991\ttraining's binary_logloss: 0.339229\n",
      "[152]\ttraining's auc: 0.928054\ttraining's binary_logloss: 0.339091\n",
      "[153]\ttraining's auc: 0.928125\ttraining's binary_logloss: 0.338934\n",
      "[154]\ttraining's auc: 0.928164\ttraining's binary_logloss: 0.338836\n",
      "[155]\ttraining's auc: 0.928179\ttraining's binary_logloss: 0.338783\n",
      "[156]\ttraining's auc: 0.928216\ttraining's binary_logloss: 0.338701\n",
      "[157]\ttraining's auc: 0.928259\ttraining's binary_logloss: 0.338609\n",
      "[158]\ttraining's auc: 0.928289\ttraining's binary_logloss: 0.338531\n",
      "[159]\ttraining's auc: 0.928335\ttraining's binary_logloss: 0.338408\n",
      "[160]\ttraining's auc: 0.928357\ttraining's binary_logloss: 0.338354\n",
      "[161]\ttraining's auc: 0.928417\ttraining's binary_logloss: 0.338206\n",
      "[162]\ttraining's auc: 0.928432\ttraining's binary_logloss: 0.33816\n",
      "[163]\ttraining's auc: 0.928469\ttraining's binary_logloss: 0.338077\n",
      "[164]\ttraining's auc: 0.928487\ttraining's binary_logloss: 0.338016\n",
      "[165]\ttraining's auc: 0.92851\ttraining's binary_logloss: 0.337963\n",
      "[166]\ttraining's auc: 0.928566\ttraining's binary_logloss: 0.33782\n",
      "[167]\ttraining's auc: 0.928615\ttraining's binary_logloss: 0.337694\n",
      "[168]\ttraining's auc: 0.928647\ttraining's binary_logloss: 0.337615\n",
      "[169]\ttraining's auc: 0.92872\ttraining's binary_logloss: 0.33743\n",
      "[170]\ttraining's auc: 0.928735\ttraining's binary_logloss: 0.337386\n",
      "[171]\ttraining's auc: 0.928803\ttraining's binary_logloss: 0.337239\n",
      "[172]\ttraining's auc: 0.92883\ttraining's binary_logloss: 0.337171\n",
      "[173]\ttraining's auc: 0.92886\ttraining's binary_logloss: 0.337108\n",
      "[174]\ttraining's auc: 0.928887\ttraining's binary_logloss: 0.337042\n",
      "[175]\ttraining's auc: 0.928942\ttraining's binary_logloss: 0.336895\n",
      "[176]\ttraining's auc: 0.929039\ttraining's binary_logloss: 0.33666\n",
      "[177]\ttraining's auc: 0.929072\ttraining's binary_logloss: 0.336583\n",
      "[178]\ttraining's auc: 0.929117\ttraining's binary_logloss: 0.336462\n",
      "[179]\ttraining's auc: 0.929161\ttraining's binary_logloss: 0.336341\n",
      "[180]\ttraining's auc: 0.929182\ttraining's binary_logloss: 0.336292\n",
      "[181]\ttraining's auc: 0.929211\ttraining's binary_logloss: 0.336219\n",
      "[182]\ttraining's auc: 0.929246\ttraining's binary_logloss: 0.336132\n",
      "[183]\ttraining's auc: 0.929277\ttraining's binary_logloss: 0.336062\n",
      "[184]\ttraining's auc: 0.929299\ttraining's binary_logloss: 0.336002\n",
      "[185]\ttraining's auc: 0.929313\ttraining's binary_logloss: 0.33596\n",
      "[186]\ttraining's auc: 0.929343\ttraining's binary_logloss: 0.335886\n",
      "[187]\ttraining's auc: 0.929367\ttraining's binary_logloss: 0.335832\n",
      "[188]\ttraining's auc: 0.929401\ttraining's binary_logloss: 0.335741\n",
      "[189]\ttraining's auc: 0.929495\ttraining's binary_logloss: 0.335545\n",
      "[190]\ttraining's auc: 0.929516\ttraining's binary_logloss: 0.335485\n",
      "[191]\ttraining's auc: 0.929529\ttraining's binary_logloss: 0.335447\n",
      "[192]\ttraining's auc: 0.929563\ttraining's binary_logloss: 0.33536\n",
      "[193]\ttraining's auc: 0.929615\ttraining's binary_logloss: 0.335246\n",
      "[194]\ttraining's auc: 0.929671\ttraining's binary_logloss: 0.335102\n",
      "[195]\ttraining's auc: 0.929691\ttraining's binary_logloss: 0.33505\n",
      "[196]\ttraining's auc: 0.9297\ttraining's binary_logloss: 0.335021\n",
      "[197]\ttraining's auc: 0.929722\ttraining's binary_logloss: 0.334974\n",
      "[198]\ttraining's auc: 0.929757\ttraining's binary_logloss: 0.334888\n",
      "[199]\ttraining's auc: 0.929843\ttraining's binary_logloss: 0.334688\n",
      "[200]\ttraining's auc: 0.929979\ttraining's binary_logloss: 0.334367\n",
      "[201]\ttraining's auc: 0.929998\ttraining's binary_logloss: 0.334321\n",
      "[202]\ttraining's auc: 0.930049\ttraining's binary_logloss: 0.334195\n",
      "[203]\ttraining's auc: 0.930074\ttraining's binary_logloss: 0.334142\n",
      "[204]\ttraining's auc: 0.930198\ttraining's binary_logloss: 0.333854\n",
      "[205]\ttraining's auc: 0.930226\ttraining's binary_logloss: 0.333781\n",
      "[206]\ttraining's auc: 0.930243\ttraining's binary_logloss: 0.333734\n",
      "[207]\ttraining's auc: 0.930276\ttraining's binary_logloss: 0.333651\n",
      "[208]\ttraining's auc: 0.930307\ttraining's binary_logloss: 0.333583\n",
      "[209]\ttraining's auc: 0.930331\ttraining's binary_logloss: 0.333522\n",
      "[210]\ttraining's auc: 0.930356\ttraining's binary_logloss: 0.333458\n",
      "[211]\ttraining's auc: 0.93039\ttraining's binary_logloss: 0.333382\n",
      "[212]\ttraining's auc: 0.930412\ttraining's binary_logloss: 0.333333\n",
      "[213]\ttraining's auc: 0.93047\ttraining's binary_logloss: 0.333203\n",
      "[214]\ttraining's auc: 0.930495\ttraining's binary_logloss: 0.333131\n",
      "[215]\ttraining's auc: 0.930522\ttraining's binary_logloss: 0.333061\n",
      "[216]\ttraining's auc: 0.930547\ttraining's binary_logloss: 0.332994\n",
      "[217]\ttraining's auc: 0.930572\ttraining's binary_logloss: 0.332931\n",
      "[218]\ttraining's auc: 0.930597\ttraining's binary_logloss: 0.332865\n",
      "[219]\ttraining's auc: 0.930626\ttraining's binary_logloss: 0.332786\n",
      "[220]\ttraining's auc: 0.930655\ttraining's binary_logloss: 0.33272\n",
      "[221]\ttraining's auc: 0.930709\ttraining's binary_logloss: 0.332579\n",
      "[222]\ttraining's auc: 0.930726\ttraining's binary_logloss: 0.33254\n",
      "[223]\ttraining's auc: 0.930752\ttraining's binary_logloss: 0.332472\n",
      "[224]\ttraining's auc: 0.930774\ttraining's binary_logloss: 0.33242\n",
      "[225]\ttraining's auc: 0.930794\ttraining's binary_logloss: 0.332361\n",
      "[226]\ttraining's auc: 0.930838\ttraining's binary_logloss: 0.332255\n",
      "[227]\ttraining's auc: 0.930866\ttraining's binary_logloss: 0.332183\n",
      "[228]\ttraining's auc: 0.930911\ttraining's binary_logloss: 0.332076\n",
      "[229]\ttraining's auc: 0.931005\ttraining's binary_logloss: 0.331853\n",
      "[230]\ttraining's auc: 0.931034\ttraining's binary_logloss: 0.331789\n",
      "[231]\ttraining's auc: 0.93106\ttraining's binary_logloss: 0.331721\n",
      "[232]\ttraining's auc: 0.931076\ttraining's binary_logloss: 0.331682\n",
      "[233]\ttraining's auc: 0.931116\ttraining's binary_logloss: 0.331575\n",
      "[234]\ttraining's auc: 0.931145\ttraining's binary_logloss: 0.331503\n",
      "[235]\ttraining's auc: 0.931167\ttraining's binary_logloss: 0.331449\n",
      "[236]\ttraining's auc: 0.931197\ttraining's binary_logloss: 0.331377\n",
      "[237]\ttraining's auc: 0.931213\ttraining's binary_logloss: 0.331342\n",
      "[238]\ttraining's auc: 0.931219\ttraining's binary_logloss: 0.331319\n",
      "[239]\ttraining's auc: 0.931301\ttraining's binary_logloss: 0.331122\n",
      "[240]\ttraining's auc: 0.931323\ttraining's binary_logloss: 0.33106\n",
      "[241]\ttraining's auc: 0.931344\ttraining's binary_logloss: 0.33101\n",
      "[242]\ttraining's auc: 0.931362\ttraining's binary_logloss: 0.33097\n",
      "[243]\ttraining's auc: 0.931376\ttraining's binary_logloss: 0.330935\n",
      "[244]\ttraining's auc: 0.931425\ttraining's binary_logloss: 0.330807\n",
      "[245]\ttraining's auc: 0.931455\ttraining's binary_logloss: 0.330721\n",
      "[246]\ttraining's auc: 0.931475\ttraining's binary_logloss: 0.330661\n",
      "[247]\ttraining's auc: 0.931497\ttraining's binary_logloss: 0.330608\n",
      "[248]\ttraining's auc: 0.931524\ttraining's binary_logloss: 0.330546\n"
     ]
    },
    {
     "name": "stdout",
     "output_type": "stream",
     "text": [
      "[249]\ttraining's auc: 0.93154\ttraining's binary_logloss: 0.330508\n",
      "[250]\ttraining's auc: 0.931556\ttraining's binary_logloss: 0.330473\n",
      "[251]\ttraining's auc: 0.931569\ttraining's binary_logloss: 0.330439\n",
      "[252]\ttraining's auc: 0.931595\ttraining's binary_logloss: 0.33038\n",
      "[253]\ttraining's auc: 0.931623\ttraining's binary_logloss: 0.330314\n",
      "[254]\ttraining's auc: 0.931647\ttraining's binary_logloss: 0.330261\n",
      "[255]\ttraining's auc: 0.931653\ttraining's binary_logloss: 0.330238\n",
      "[256]\ttraining's auc: 0.931675\ttraining's binary_logloss: 0.330179\n",
      "[257]\ttraining's auc: 0.931692\ttraining's binary_logloss: 0.33014\n",
      "[258]\ttraining's auc: 0.931707\ttraining's binary_logloss: 0.3301\n",
      "[259]\ttraining's auc: 0.931722\ttraining's binary_logloss: 0.330066\n",
      "[260]\ttraining's auc: 0.931737\ttraining's binary_logloss: 0.330034\n",
      "[261]\ttraining's auc: 0.931754\ttraining's binary_logloss: 0.329992\n",
      "[262]\ttraining's auc: 0.9318\ttraining's binary_logloss: 0.329882\n",
      "[263]\ttraining's auc: 0.931831\ttraining's binary_logloss: 0.329815\n",
      "[264]\ttraining's auc: 0.931861\ttraining's binary_logloss: 0.329741\n",
      "[265]\ttraining's auc: 0.931871\ttraining's binary_logloss: 0.329707\n",
      "[266]\ttraining's auc: 0.931891\ttraining's binary_logloss: 0.329658\n",
      "[267]\ttraining's auc: 0.931907\ttraining's binary_logloss: 0.329623\n",
      "[268]\ttraining's auc: 0.931919\ttraining's binary_logloss: 0.329593\n",
      "[269]\ttraining's auc: 0.931938\ttraining's binary_logloss: 0.329541\n",
      "[270]\ttraining's auc: 0.932\ttraining's binary_logloss: 0.329392\n",
      "[271]\ttraining's auc: 0.932014\ttraining's binary_logloss: 0.329359\n",
      "[272]\ttraining's auc: 0.932034\ttraining's binary_logloss: 0.32931\n",
      "[273]\ttraining's auc: 0.932057\ttraining's binary_logloss: 0.329254\n",
      "[274]\ttraining's auc: 0.932069\ttraining's binary_logloss: 0.329219\n",
      "[275]\ttraining's auc: 0.932113\ttraining's binary_logloss: 0.329112\n",
      "[276]\ttraining's auc: 0.932142\ttraining's binary_logloss: 0.329044\n",
      "[277]\ttraining's auc: 0.932155\ttraining's binary_logloss: 0.329011\n",
      "[278]\ttraining's auc: 0.932195\ttraining's binary_logloss: 0.32891\n",
      "[279]\ttraining's auc: 0.932202\ttraining's binary_logloss: 0.328889\n",
      "[280]\ttraining's auc: 0.932224\ttraining's binary_logloss: 0.32884\n",
      "[281]\ttraining's auc: 0.932245\ttraining's binary_logloss: 0.328787\n",
      "[282]\ttraining's auc: 0.932255\ttraining's binary_logloss: 0.328763\n",
      "[283]\ttraining's auc: 0.932281\ttraining's binary_logloss: 0.328704\n",
      "[284]\ttraining's auc: 0.932296\ttraining's binary_logloss: 0.328665\n",
      "[285]\ttraining's auc: 0.932348\ttraining's binary_logloss: 0.328528\n",
      "[286]\ttraining's auc: 0.932365\ttraining's binary_logloss: 0.328483\n",
      "[287]\ttraining's auc: 0.932402\ttraining's binary_logloss: 0.328387\n",
      "[288]\ttraining's auc: 0.932432\ttraining's binary_logloss: 0.328317\n",
      "[289]\ttraining's auc: 0.932454\ttraining's binary_logloss: 0.328261\n",
      "[290]\ttraining's auc: 0.932483\ttraining's binary_logloss: 0.328188\n",
      "[291]\ttraining's auc: 0.932499\ttraining's binary_logloss: 0.328145\n",
      "[292]\ttraining's auc: 0.932514\ttraining's binary_logloss: 0.328105\n",
      "[293]\ttraining's auc: 0.932531\ttraining's binary_logloss: 0.328061\n",
      "[294]\ttraining's auc: 0.932544\ttraining's binary_logloss: 0.328027\n",
      "[295]\ttraining's auc: 0.932554\ttraining's binary_logloss: 0.327998\n",
      "[296]\ttraining's auc: 0.932592\ttraining's binary_logloss: 0.327905\n",
      "[297]\ttraining's auc: 0.932621\ttraining's binary_logloss: 0.327822\n",
      "[298]\ttraining's auc: 0.932635\ttraining's binary_logloss: 0.327786\n",
      "[299]\ttraining's auc: 0.932643\ttraining's binary_logloss: 0.327761\n",
      "[300]\ttraining's auc: 0.932677\ttraining's binary_logloss: 0.327678\n",
      "[301]\ttraining's auc: 0.932694\ttraining's binary_logloss: 0.32764\n",
      "[302]\ttraining's auc: 0.932707\ttraining's binary_logloss: 0.327609\n",
      "[303]\ttraining's auc: 0.932734\ttraining's binary_logloss: 0.327543\n",
      "[304]\ttraining's auc: 0.932754\ttraining's binary_logloss: 0.327495\n",
      "[305]\ttraining's auc: 0.932793\ttraining's binary_logloss: 0.327399\n",
      "[306]\ttraining's auc: 0.932818\ttraining's binary_logloss: 0.327333\n",
      "[307]\ttraining's auc: 0.93284\ttraining's binary_logloss: 0.327283\n",
      "[308]\ttraining's auc: 0.932851\ttraining's binary_logloss: 0.327254\n",
      "[309]\ttraining's auc: 0.932879\ttraining's binary_logloss: 0.327186\n",
      "[310]\ttraining's auc: 0.932894\ttraining's binary_logloss: 0.327147\n",
      "[311]\ttraining's auc: 0.932908\ttraining's binary_logloss: 0.327112\n",
      "[312]\ttraining's auc: 0.93292\ttraining's binary_logloss: 0.327079\n",
      "[313]\ttraining's auc: 0.932926\ttraining's binary_logloss: 0.327061\n",
      "[314]\ttraining's auc: 0.932946\ttraining's binary_logloss: 0.327018\n",
      "[315]\ttraining's auc: 0.932963\ttraining's binary_logloss: 0.32697\n",
      "[316]\ttraining's auc: 0.932976\ttraining's binary_logloss: 0.326938\n",
      "[317]\ttraining's auc: 0.933006\ttraining's binary_logloss: 0.326867\n",
      "[318]\ttraining's auc: 0.933021\ttraining's binary_logloss: 0.326836\n",
      "[319]\ttraining's auc: 0.933039\ttraining's binary_logloss: 0.326794\n",
      "[320]\ttraining's auc: 0.933064\ttraining's binary_logloss: 0.326736\n",
      "[321]\ttraining's auc: 0.93308\ttraining's binary_logloss: 0.326695\n",
      "[322]\ttraining's auc: 0.933095\ttraining's binary_logloss: 0.32666\n",
      "[323]\ttraining's auc: 0.933106\ttraining's binary_logloss: 0.326632\n",
      "[324]\ttraining's auc: 0.933118\ttraining's binary_logloss: 0.3266\n",
      "[325]\ttraining's auc: 0.933125\ttraining's binary_logloss: 0.326578\n",
      "[326]\ttraining's auc: 0.933135\ttraining's binary_logloss: 0.326548\n",
      "[327]\ttraining's auc: 0.933146\ttraining's binary_logloss: 0.326519\n",
      "[328]\ttraining's auc: 0.93316\ttraining's binary_logloss: 0.326486\n",
      "[329]\ttraining's auc: 0.933197\ttraining's binary_logloss: 0.326391\n",
      "[330]\ttraining's auc: 0.933211\ttraining's binary_logloss: 0.326356\n",
      "[331]\ttraining's auc: 0.933223\ttraining's binary_logloss: 0.326323\n",
      "[332]\ttraining's auc: 0.933239\ttraining's binary_logloss: 0.326283\n",
      "[333]\ttraining's auc: 0.933255\ttraining's binary_logloss: 0.326246\n",
      "[334]\ttraining's auc: 0.933269\ttraining's binary_logloss: 0.326211\n",
      "[335]\ttraining's auc: 0.933282\ttraining's binary_logloss: 0.326181\n",
      "[336]\ttraining's auc: 0.933295\ttraining's binary_logloss: 0.326152\n",
      "[337]\ttraining's auc: 0.933322\ttraining's binary_logloss: 0.326088\n",
      "[338]\ttraining's auc: 0.93333\ttraining's binary_logloss: 0.326061\n",
      "[339]\ttraining's auc: 0.933347\ttraining's binary_logloss: 0.326022\n",
      "[340]\ttraining's auc: 0.933371\ttraining's binary_logloss: 0.325967\n",
      "[341]\ttraining's auc: 0.933384\ttraining's binary_logloss: 0.325938\n",
      "[342]\ttraining's auc: 0.93342\ttraining's binary_logloss: 0.325856\n",
      "[343]\ttraining's auc: 0.933437\ttraining's binary_logloss: 0.325818\n",
      "[344]\ttraining's auc: 0.933451\ttraining's binary_logloss: 0.325783\n",
      "[345]\ttraining's auc: 0.933474\ttraining's binary_logloss: 0.325731\n",
      "[346]\ttraining's auc: 0.933484\ttraining's binary_logloss: 0.325702\n",
      "[347]\ttraining's auc: 0.933496\ttraining's binary_logloss: 0.32567\n",
      "[348]\ttraining's auc: 0.933509\ttraining's binary_logloss: 0.325639\n",
      "[349]\ttraining's auc: 0.933522\ttraining's binary_logloss: 0.325608\n",
      "[350]\ttraining's auc: 0.93354\ttraining's binary_logloss: 0.325567\n",
      "[351]\ttraining's auc: 0.933568\ttraining's binary_logloss: 0.325502\n",
      "[352]\ttraining's auc: 0.933612\ttraining's binary_logloss: 0.325394\n",
      "[353]\ttraining's auc: 0.933627\ttraining's binary_logloss: 0.325353\n",
      "[354]\ttraining's auc: 0.933634\ttraining's binary_logloss: 0.325333\n",
      "[355]\ttraining's auc: 0.933645\ttraining's binary_logloss: 0.325307\n",
      "[356]\ttraining's auc: 0.933663\ttraining's binary_logloss: 0.325267\n",
      "[357]\ttraining's auc: 0.933678\ttraining's binary_logloss: 0.325228\n",
      "[358]\ttraining's auc: 0.933692\ttraining's binary_logloss: 0.325193\n",
      "[359]\ttraining's auc: 0.933704\ttraining's binary_logloss: 0.32516\n",
      "[360]\ttraining's auc: 0.933715\ttraining's binary_logloss: 0.325137\n",
      "[361]\ttraining's auc: 0.933741\ttraining's binary_logloss: 0.325076\n",
      "[362]\ttraining's auc: 0.933769\ttraining's binary_logloss: 0.325007\n",
      "[363]\ttraining's auc: 0.933782\ttraining's binary_logloss: 0.324978\n",
      "[364]\ttraining's auc: 0.933794\ttraining's binary_logloss: 0.324947\n",
      "[365]\ttraining's auc: 0.9338\ttraining's binary_logloss: 0.32493\n",
      "[366]\ttraining's auc: 0.933818\ttraining's binary_logloss: 0.324888\n",
      "[367]\ttraining's auc: 0.933841\ttraining's binary_logloss: 0.32483\n",
      "[368]\ttraining's auc: 0.93385\ttraining's binary_logloss: 0.324807\n",
      "[369]\ttraining's auc: 0.933887\ttraining's binary_logloss: 0.324714\n",
      "[370]\ttraining's auc: 0.933897\ttraining's binary_logloss: 0.324688\n",
      "[371]\ttraining's auc: 0.933905\ttraining's binary_logloss: 0.324668\n",
      "[372]\ttraining's auc: 0.933933\ttraining's binary_logloss: 0.324607\n"
     ]
    },
    {
     "name": "stdout",
     "output_type": "stream",
     "text": [
      "[373]\ttraining's auc: 0.933945\ttraining's binary_logloss: 0.324575\n",
      "[374]\ttraining's auc: 0.933971\ttraining's binary_logloss: 0.324511\n",
      "[375]\ttraining's auc: 0.933978\ttraining's binary_logloss: 0.324493\n",
      "[376]\ttraining's auc: 0.933983\ttraining's binary_logloss: 0.324477\n",
      "[377]\ttraining's auc: 0.933996\ttraining's binary_logloss: 0.324444\n",
      "[378]\ttraining's auc: 0.934009\ttraining's binary_logloss: 0.324413\n",
      "[379]\ttraining's auc: 0.934019\ttraining's binary_logloss: 0.324389\n",
      "[380]\ttraining's auc: 0.934035\ttraining's binary_logloss: 0.324353\n",
      "[381]\ttraining's auc: 0.934049\ttraining's binary_logloss: 0.324322\n",
      "[382]\ttraining's auc: 0.934059\ttraining's binary_logloss: 0.324298\n",
      "[383]\ttraining's auc: 0.934071\ttraining's binary_logloss: 0.324268\n",
      "[384]\ttraining's auc: 0.934087\ttraining's binary_logloss: 0.324229\n",
      "[385]\ttraining's auc: 0.934103\ttraining's binary_logloss: 0.324189\n",
      "[386]\ttraining's auc: 0.934113\ttraining's binary_logloss: 0.324164\n",
      "[387]\ttraining's auc: 0.934132\ttraining's binary_logloss: 0.324121\n",
      "[388]\ttraining's auc: 0.934141\ttraining's binary_logloss: 0.3241\n",
      "[389]\ttraining's auc: 0.934156\ttraining's binary_logloss: 0.324066\n",
      "[390]\ttraining's auc: 0.934177\ttraining's binary_logloss: 0.324016\n",
      "[391]\ttraining's auc: 0.934194\ttraining's binary_logloss: 0.323977\n",
      "[392]\ttraining's auc: 0.934209\ttraining's binary_logloss: 0.323941\n",
      "[393]\ttraining's auc: 0.934232\ttraining's binary_logloss: 0.323872\n",
      "[394]\ttraining's auc: 0.934237\ttraining's binary_logloss: 0.323856\n",
      "[395]\ttraining's auc: 0.934274\ttraining's binary_logloss: 0.323759\n",
      "[396]\ttraining's auc: 0.934321\ttraining's binary_logloss: 0.323658\n",
      "[397]\ttraining's auc: 0.934349\ttraining's binary_logloss: 0.323592\n",
      "[398]\ttraining's auc: 0.934359\ttraining's binary_logloss: 0.323567\n",
      "[399]\ttraining's auc: 0.934379\ttraining's binary_logloss: 0.323519\n",
      "[400]\ttraining's auc: 0.934405\ttraining's binary_logloss: 0.32346\n",
      "[401]\ttraining's auc: 0.934411\ttraining's binary_logloss: 0.323444\n",
      "[402]\ttraining's auc: 0.934423\ttraining's binary_logloss: 0.323418\n",
      "[403]\ttraining's auc: 0.934439\ttraining's binary_logloss: 0.323378\n",
      "[404]\ttraining's auc: 0.934462\ttraining's binary_logloss: 0.323317\n",
      "[405]\ttraining's auc: 0.934477\ttraining's binary_logloss: 0.323283\n",
      "[406]\ttraining's auc: 0.934488\ttraining's binary_logloss: 0.323255\n",
      "[407]\ttraining's auc: 0.934507\ttraining's binary_logloss: 0.323208\n",
      "[408]\ttraining's auc: 0.934532\ttraining's binary_logloss: 0.323151\n",
      "[409]\ttraining's auc: 0.934545\ttraining's binary_logloss: 0.323115\n",
      "[410]\ttraining's auc: 0.934555\ttraining's binary_logloss: 0.323091\n",
      "[411]\ttraining's auc: 0.93456\ttraining's binary_logloss: 0.323076\n",
      "[412]\ttraining's auc: 0.934571\ttraining's binary_logloss: 0.323052\n",
      "[413]\ttraining's auc: 0.934581\ttraining's binary_logloss: 0.323026\n",
      "[414]\ttraining's auc: 0.934595\ttraining's binary_logloss: 0.322994\n",
      "[415]\ttraining's auc: 0.934617\ttraining's binary_logloss: 0.32293\n",
      "[416]\ttraining's auc: 0.934629\ttraining's binary_logloss: 0.3229\n",
      "[417]\ttraining's auc: 0.934638\ttraining's binary_logloss: 0.322876\n",
      "[418]\ttraining's auc: 0.934647\ttraining's binary_logloss: 0.322854\n",
      "[419]\ttraining's auc: 0.934655\ttraining's binary_logloss: 0.322834\n",
      "[420]\ttraining's auc: 0.934669\ttraining's binary_logloss: 0.3228\n",
      "[421]\ttraining's auc: 0.934692\ttraining's binary_logloss: 0.322749\n",
      "[422]\ttraining's auc: 0.934701\ttraining's binary_logloss: 0.32272\n",
      "[423]\ttraining's auc: 0.93471\ttraining's binary_logloss: 0.322698\n",
      "[424]\ttraining's auc: 0.934721\ttraining's binary_logloss: 0.322672\n",
      "[425]\ttraining's auc: 0.934732\ttraining's binary_logloss: 0.322646\n",
      "[426]\ttraining's auc: 0.934741\ttraining's binary_logloss: 0.322629\n",
      "[427]\ttraining's auc: 0.934747\ttraining's binary_logloss: 0.322612\n",
      "[428]\ttraining's auc: 0.934757\ttraining's binary_logloss: 0.322589\n",
      "[429]\ttraining's auc: 0.93477\ttraining's binary_logloss: 0.322558\n",
      "[430]\ttraining's auc: 0.934781\ttraining's binary_logloss: 0.322533\n",
      "[431]\ttraining's auc: 0.934798\ttraining's binary_logloss: 0.322487\n",
      "[432]\ttraining's auc: 0.934824\ttraining's binary_logloss: 0.322427\n",
      "[433]\ttraining's auc: 0.93484\ttraining's binary_logloss: 0.32239\n",
      "[434]\ttraining's auc: 0.934861\ttraining's binary_logloss: 0.322339\n",
      "[435]\ttraining's auc: 0.934874\ttraining's binary_logloss: 0.322308\n",
      "[436]\ttraining's auc: 0.93489\ttraining's binary_logloss: 0.322269\n",
      "[437]\ttraining's auc: 0.934907\ttraining's binary_logloss: 0.322231\n",
      "[438]\ttraining's auc: 0.934912\ttraining's binary_logloss: 0.322217\n",
      "[439]\ttraining's auc: 0.934921\ttraining's binary_logloss: 0.322194\n",
      "[440]\ttraining's auc: 0.934935\ttraining's binary_logloss: 0.322162\n",
      "[441]\ttraining's auc: 0.934955\ttraining's binary_logloss: 0.322116\n",
      "[442]\ttraining's auc: 0.934968\ttraining's binary_logloss: 0.322084\n",
      "[443]\ttraining's auc: 0.934986\ttraining's binary_logloss: 0.322041\n",
      "[444]\ttraining's auc: 0.934999\ttraining's binary_logloss: 0.322015\n",
      "[445]\ttraining's auc: 0.935011\ttraining's binary_logloss: 0.321987\n",
      "[446]\ttraining's auc: 0.935023\ttraining's binary_logloss: 0.321958\n",
      "[447]\ttraining's auc: 0.935032\ttraining's binary_logloss: 0.321929\n",
      "[448]\ttraining's auc: 0.93504\ttraining's binary_logloss: 0.321908\n",
      "[449]\ttraining's auc: 0.935054\ttraining's binary_logloss: 0.321874\n",
      "[450]\ttraining's auc: 0.935069\ttraining's binary_logloss: 0.321827\n",
      "[451]\ttraining's auc: 0.935079\ttraining's binary_logloss: 0.321801\n",
      "[452]\ttraining's auc: 0.935096\ttraining's binary_logloss: 0.321765\n",
      "[453]\ttraining's auc: 0.935113\ttraining's binary_logloss: 0.321723\n",
      "[454]\ttraining's auc: 0.93513\ttraining's binary_logloss: 0.32168\n",
      "[455]\ttraining's auc: 0.935142\ttraining's binary_logloss: 0.321652\n",
      "[456]\ttraining's auc: 0.935152\ttraining's binary_logloss: 0.321623\n",
      "[457]\ttraining's auc: 0.935157\ttraining's binary_logloss: 0.32161\n",
      "[458]\ttraining's auc: 0.935166\ttraining's binary_logloss: 0.321586\n",
      "[459]\ttraining's auc: 0.935173\ttraining's binary_logloss: 0.321568\n",
      "[460]\ttraining's auc: 0.935192\ttraining's binary_logloss: 0.321524\n",
      "[461]\ttraining's auc: 0.93521\ttraining's binary_logloss: 0.321478\n",
      "[462]\ttraining's auc: 0.935222\ttraining's binary_logloss: 0.321449\n",
      "[463]\ttraining's auc: 0.935226\ttraining's binary_logloss: 0.321437\n",
      "[464]\ttraining's auc: 0.935236\ttraining's binary_logloss: 0.321412\n",
      "[465]\ttraining's auc: 0.935259\ttraining's binary_logloss: 0.321347\n",
      "[466]\ttraining's auc: 0.935277\ttraining's binary_logloss: 0.321306\n",
      "[467]\ttraining's auc: 0.935292\ttraining's binary_logloss: 0.321271\n",
      "[468]\ttraining's auc: 0.935295\ttraining's binary_logloss: 0.32126\n",
      "[469]\ttraining's auc: 0.935311\ttraining's binary_logloss: 0.321223\n",
      "[470]\ttraining's auc: 0.935323\ttraining's binary_logloss: 0.321193\n",
      "[471]\ttraining's auc: 0.935333\ttraining's binary_logloss: 0.321168\n",
      "[472]\ttraining's auc: 0.935347\ttraining's binary_logloss: 0.321136\n",
      "[473]\ttraining's auc: 0.935358\ttraining's binary_logloss: 0.321108\n",
      "[474]\ttraining's auc: 0.935369\ttraining's binary_logloss: 0.321077\n",
      "[475]\ttraining's auc: 0.935381\ttraining's binary_logloss: 0.321052\n",
      "[476]\ttraining's auc: 0.935392\ttraining's binary_logloss: 0.321023\n",
      "[477]\ttraining's auc: 0.935403\ttraining's binary_logloss: 0.320998\n",
      "[478]\ttraining's auc: 0.935409\ttraining's binary_logloss: 0.32098\n",
      "[479]\ttraining's auc: 0.935426\ttraining's binary_logloss: 0.320937\n",
      "[480]\ttraining's auc: 0.935437\ttraining's binary_logloss: 0.320914\n",
      "[481]\ttraining's auc: 0.935445\ttraining's binary_logloss: 0.320889\n",
      "[482]\ttraining's auc: 0.935464\ttraining's binary_logloss: 0.320838\n",
      "[483]\ttraining's auc: 0.935473\ttraining's binary_logloss: 0.320812\n",
      "[484]\ttraining's auc: 0.935491\ttraining's binary_logloss: 0.320773\n",
      "[485]\ttraining's auc: 0.9355\ttraining's binary_logloss: 0.320749\n",
      "[486]\ttraining's auc: 0.935512\ttraining's binary_logloss: 0.320724\n",
      "[487]\ttraining's auc: 0.935521\ttraining's binary_logloss: 0.320703\n",
      "[488]\ttraining's auc: 0.935528\ttraining's binary_logloss: 0.320681\n",
      "[489]\ttraining's auc: 0.935546\ttraining's binary_logloss: 0.320637\n",
      "[490]\ttraining's auc: 0.93555\ttraining's binary_logloss: 0.320625\n",
      "[491]\ttraining's auc: 0.935559\ttraining's binary_logloss: 0.320601\n",
      "[492]\ttraining's auc: 0.935574\ttraining's binary_logloss: 0.320566\n",
      "[493]\ttraining's auc: 0.93558\ttraining's binary_logloss: 0.320548\n",
      "[494]\ttraining's auc: 0.935599\ttraining's binary_logloss: 0.320502\n",
      "[495]\ttraining's auc: 0.935619\ttraining's binary_logloss: 0.320455\n",
      "[496]\ttraining's auc: 0.935645\ttraining's binary_logloss: 0.320394\n"
     ]
    },
    {
     "name": "stdout",
     "output_type": "stream",
     "text": [
      "[497]\ttraining's auc: 0.935661\ttraining's binary_logloss: 0.320355\n",
      "[498]\ttraining's auc: 0.935679\ttraining's binary_logloss: 0.320302\n",
      "[499]\ttraining's auc: 0.935685\ttraining's binary_logloss: 0.320283\n",
      "[500]\ttraining's auc: 0.9357\ttraining's binary_logloss: 0.320243\n",
      "Did not meet early stopping. Best iteration is:\n",
      "[500]\ttraining's auc: 0.9357\ttraining's binary_logloss: 0.320243\n"
     ]
    },
    {
     "data": {
      "text/plain": [
       "LGBMClassifier(boosting_type='gbdt', class_weight=None, colsample_bytree=1.0,\n",
       "               importance_type='split', learning_rate=0.1, max_depth=-1,\n",
       "               min_child_samples=20, min_child_weight=0.001, min_split_gain=0.0,\n",
       "               n_estimators=500, n_jobs=-1, num_leaves=31, objective=None,\n",
       "               random_state=20182817, reg_alpha=0.0, reg_lambda=0.0,\n",
       "               silent=True, subsample=1.0, subsample_for_bin=200000,\n",
       "               subsample_freq=0)"
      ]
     },
     "execution_count": 56,
     "metadata": {},
     "output_type": "execute_result"
    }
   ],
   "source": [
    "lgbm_clf.fit(X_train, y_train, eval_set=[(X_train, y_train)], eval_metric = ['auc','logloss'], \n",
    "        verbose=True, early_stopping_rounds=10)"
   ]
  },
  {
   "cell_type": "code",
   "execution_count": 57,
   "metadata": {},
   "outputs": [],
   "source": [
    "lgbm_pred_proba = lgbm_clf.predict_proba(X_test)"
   ]
  },
  {
   "cell_type": "code",
   "execution_count": 60,
   "metadata": {},
   "outputs": [],
   "source": [
    "pd.DataFrame({'ID':test_id[\"ID\"], 'STATUS': lgbm_pred_proba[:,1]}).to_csv(os.path.abspath(\"./e_submission\") + \"/lgbm.csv\", index=False)"
   ]
  },
  {
   "cell_type": "code",
   "execution_count": null,
   "metadata": {},
   "outputs": [],
   "source": [
    "from sklearn.model_selection import KFold"
   ]
  },
  {
   "cell_type": "code",
   "execution_count": 59,
   "metadata": {},
   "outputs": [
    {
     "name": "stdout",
     "output_type": "stream",
     "text": [
      "CV score :  0.927435252327092\n"
     ]
    }
   ],
   "source": [
    "from sklearn.ensemble import RandomForestClassifier\n",
    "\n",
    "val_scores = []\n",
    "rf_pred = np.zeros((X_test.shape[0]))\n",
    "\n",
    "\n",
    "for trn_idx, val_idx in kf.split(X_train,y_train):\n",
    "    \n",
    "    X_tr, y_tr = X_train.iloc[trn_idx,:], y_train[trn_idx]\n",
    "    X_val, y_val = X_train.iloc[val_idx,:], y_train[val_idx]\n",
    "\n",
    "    clf = RandomForestClassifier(random_state = 20182817)\n",
    "    \n",
    "    clf.fit(X_tr,y_tr)\n",
    "    \n",
    "    val_score = roc_auc_score(y_val, clf.predict_proba(X_val)[:,1])\n",
    "    \n",
    "    val_scores.append(val_score)\n",
    "    \n",
    "    rf_pred += clf.predict_proba(X_test)[:,1]\n",
    "    \n",
    "print('CV score : ', np.mean(val_scores))"
   ]
  },
  {
   "cell_type": "code",
   "execution_count": 60,
   "metadata": {},
   "outputs": [],
   "source": [
    "rf_pred = pd.DataFrame({'ID': test_id[\"ID\"], 'STATUS': rf_pred/5})"
   ]
  },
  {
   "cell_type": "code",
   "execution_count": 72,
   "metadata": {},
   "outputs": [],
   "source": [
    "rf_pred.to_csv(os.path.abspath(\"./e_submission\") + \"/rf_oof.csv\", index=False)"
   ]
  },
  {
   "cell_type": "code",
   "execution_count": null,
   "metadata": {},
   "outputs": [],
   "source": []
  }
 ],
 "metadata": {
  "accelerator": "TPU",
  "colab": {
   "collapsed_sections": [],
   "machine_shape": "hm",
   "name": "컴피티션_1round_best_score.ipynb",
   "provenance": []
  },
  "kernelspec": {
   "display_name": "Python 3",
   "language": "python",
   "name": "python3"
  },
  "language_info": {
   "codemirror_mode": {
    "name": "ipython",
    "version": 3
   },
   "file_extension": ".py",
   "mimetype": "text/x-python",
   "name": "python",
   "nbconvert_exporter": "python",
   "pygments_lexer": "ipython3",
   "version": "3.8.5"
  }
 },
 "nbformat": 4,
 "nbformat_minor": 1
}
