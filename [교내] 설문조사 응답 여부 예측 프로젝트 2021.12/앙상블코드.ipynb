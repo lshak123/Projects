{
 "cells": [
  {
   "cell_type": "code",
   "execution_count": 26,
   "metadata": {},
   "outputs": [],
   "source": [
    "import pandas as pd\n",
    "import numpy as np\n",
    "import seaborn as sns\n",
    "import matplotlib.pylab as plt\n",
    "%matplotlib inline\n",
    "import warnings\n",
    "warnings.filterwarnings(\"ignore\")\n",
    "import os"
   ]
  },
  {
   "cell_type": "markdown",
   "metadata": {},
   "source": [
    "## 서브미션 합쳐서 DF만들기"
   ]
  },
  {
   "cell_type": "markdown",
   "metadata": {},
   "source": [
    "### submissions라는 파일 명 안에 합칠 submission들 다 넣어놓으면 됨\n",
    "### submission 바꾸면서 하려면 다른 이름의 파일에 저장해서 아래 코드 folder 변수 다른 이름의 파일로 바꿔주면 됨"
   ]
  },
  {
   "cell_type": "code",
   "execution_count": 27,
   "metadata": {},
   "outputs": [],
   "source": [
    "folder = 'e_submission'\n",
    "nf = 0\n",
    "for f in os.listdir(folder):\n",
    "    ext = os.path.splitext(f)[-1]\n",
    "    if ext == '.csv': \n",
    "        s = pd.read_csv(folder+\"/\"+f)\n",
    "    else: \n",
    "        continue\n",
    "    if len(s.columns) !=2:\n",
    "        continue\n",
    "    if nf == 0: \n",
    "        slist = s\n",
    "    else: \n",
    "        slist = pd.merge(slist, s, on=\"ID\")\n",
    "    nf += 1"
   ]
  },
  {
   "cell_type": "code",
   "execution_count": 28,
   "metadata": {},
   "outputs": [],
   "source": [
    "sub_m = slist.set_index('ID')"
   ]
  },
  {
   "cell_type": "code",
   "execution_count": 29,
   "metadata": {},
   "outputs": [],
   "source": [
    "num = []\n",
    "for i in range(len(sub_m.columns)):\n",
    "    num.append(i+1)"
   ]
  },
  {
   "cell_type": "code",
   "execution_count": 30,
   "metadata": {},
   "outputs": [],
   "source": [
    "sub_m.columns = num"
   ]
  },
  {
   "cell_type": "code",
   "execution_count": 31,
   "metadata": {},
   "outputs": [
    {
     "data": {
      "text/html": [
       "<div>\n",
       "<style scoped>\n",
       "    .dataframe tbody tr th:only-of-type {\n",
       "        vertical-align: middle;\n",
       "    }\n",
       "\n",
       "    .dataframe tbody tr th {\n",
       "        vertical-align: top;\n",
       "    }\n",
       "\n",
       "    .dataframe thead th {\n",
       "        text-align: right;\n",
       "    }\n",
       "</style>\n",
       "<table border=\"1\" class=\"dataframe\">\n",
       "  <thead>\n",
       "    <tr style=\"text-align: right;\">\n",
       "      <th></th>\n",
       "      <th>1</th>\n",
       "      <th>2</th>\n",
       "      <th>3</th>\n",
       "      <th>4</th>\n",
       "    </tr>\n",
       "    <tr>\n",
       "      <th>ID</th>\n",
       "      <th></th>\n",
       "      <th></th>\n",
       "      <th></th>\n",
       "      <th></th>\n",
       "    </tr>\n",
       "  </thead>\n",
       "  <tbody>\n",
       "    <tr>\n",
       "      <th>0</th>\n",
       "      <td>0.953988</td>\n",
       "      <td>0.983973</td>\n",
       "      <td>0.999018</td>\n",
       "      <td>0.984000</td>\n",
       "    </tr>\n",
       "    <tr>\n",
       "      <th>1</th>\n",
       "      <td>0.067155</td>\n",
       "      <td>0.471476</td>\n",
       "      <td>0.956781</td>\n",
       "      <td>0.422000</td>\n",
       "    </tr>\n",
       "    <tr>\n",
       "      <th>2</th>\n",
       "      <td>0.717147</td>\n",
       "      <td>0.651708</td>\n",
       "      <td>0.925372</td>\n",
       "      <td>0.477333</td>\n",
       "    </tr>\n",
       "    <tr>\n",
       "      <th>3</th>\n",
       "      <td>0.987646</td>\n",
       "      <td>0.990566</td>\n",
       "      <td>0.092518</td>\n",
       "      <td>0.994000</td>\n",
       "    </tr>\n",
       "    <tr>\n",
       "      <th>4</th>\n",
       "      <td>0.015192</td>\n",
       "      <td>0.057661</td>\n",
       "      <td>0.928378</td>\n",
       "      <td>0.098000</td>\n",
       "    </tr>\n",
       "    <tr>\n",
       "      <th>...</th>\n",
       "      <td>...</td>\n",
       "      <td>...</td>\n",
       "      <td>...</td>\n",
       "      <td>...</td>\n",
       "    </tr>\n",
       "    <tr>\n",
       "      <th>1355512</th>\n",
       "      <td>0.238585</td>\n",
       "      <td>0.007381</td>\n",
       "      <td>0.047760</td>\n",
       "      <td>0.242000</td>\n",
       "    </tr>\n",
       "    <tr>\n",
       "      <th>1355513</th>\n",
       "      <td>0.017512</td>\n",
       "      <td>0.071779</td>\n",
       "      <td>0.001680</td>\n",
       "      <td>0.084000</td>\n",
       "    </tr>\n",
       "    <tr>\n",
       "      <th>1355514</th>\n",
       "      <td>0.024213</td>\n",
       "      <td>0.071642</td>\n",
       "      <td>0.028297</td>\n",
       "      <td>0.094000</td>\n",
       "    </tr>\n",
       "    <tr>\n",
       "      <th>1355515</th>\n",
       "      <td>0.225445</td>\n",
       "      <td>0.289820</td>\n",
       "      <td>0.205074</td>\n",
       "      <td>0.242000</td>\n",
       "    </tr>\n",
       "    <tr>\n",
       "      <th>1355516</th>\n",
       "      <td>0.000252</td>\n",
       "      <td>0.000267</td>\n",
       "      <td>0.000218</td>\n",
       "      <td>0.020000</td>\n",
       "    </tr>\n",
       "  </tbody>\n",
       "</table>\n",
       "<p>1355517 rows × 4 columns</p>\n",
       "</div>"
      ],
      "text/plain": [
       "                1         2         3         4\n",
       "ID                                             \n",
       "0        0.953988  0.983973  0.999018  0.984000\n",
       "1        0.067155  0.471476  0.956781  0.422000\n",
       "2        0.717147  0.651708  0.925372  0.477333\n",
       "3        0.987646  0.990566  0.092518  0.994000\n",
       "4        0.015192  0.057661  0.928378  0.098000\n",
       "...           ...       ...       ...       ...\n",
       "1355512  0.238585  0.007381  0.047760  0.242000\n",
       "1355513  0.017512  0.071779  0.001680  0.084000\n",
       "1355514  0.024213  0.071642  0.028297  0.094000\n",
       "1355515  0.225445  0.289820  0.205074  0.242000\n",
       "1355516  0.000252  0.000267  0.000218  0.020000\n",
       "\n",
       "[1355517 rows x 4 columns]"
      ]
     },
     "execution_count": 31,
     "metadata": {},
     "output_type": "execute_result"
    }
   ],
   "source": [
    "sub_m"
   ]
  },
  {
   "cell_type": "markdown",
   "metadata": {},
   "source": [
    "## 서브미션 별 corr확인"
   ]
  },
  {
   "cell_type": "code",
   "execution_count": 32,
   "metadata": {
    "scrolled": false
   },
   "outputs": [
    {
     "data": {
      "image/png": "[encoded data removed]",
      "text/plain": [
       "<Figure size 864x576 with 2 Axes>"
      ]
     },
     "metadata": {
      "needs_background": "light"
     },
     "output_type": "display_data"
    }
   ],
   "source": [
    "plt.figure(figsize = (12,8))\n",
    "g = sns.heatmap(sub_m.corr(), annot = True, cmap = 'Blues')\n",
    "g.set_title('Correlation')\n",
    "plt.show()"
   ]
  },
  {
   "cell_type": "markdown",
   "metadata": {},
   "source": [
    "## submission averaging -> 새로운 submission 생성\n",
    "## (p =1 -> 산술평균 p>1 멱평균)"
   ]
  },
  {
   "cell_type": "code",
   "execution_count": 35,
   "metadata": {},
   "outputs": [],
   "source": [
    "p = 1    # 이 값에 따라 성능이 달라짐 (p=1: 산술평균, p>1: 멱평균)\n",
    "if nf >= 2:\n",
    "    pred = 0\n",
    "    for j in range(nf): pred = pred + sub_m.iloc[:,j]**p \n",
    "    pred = pred / nf    \n",
    "    pred = pred**(1/p)\n",
    "\n",
    "    submission = pd.DataFrame({'ID': sub_m.index, 'STATUS': pred})\n",
    "    submission.to_csv(os.path.abspath(\"../submission\") + \"/ensemble.csv\", index=False)"
   ]
  },
  {
   "cell_type": "markdown",
   "metadata": {},
   "source": [
    "## 가중"
   ]
  },
  {
   "cell_type": "code",
   "execution_count": 11,
   "metadata": {},
   "outputs": [],
   "source": [
    "#pred = sub_m.iloc[:,0]*0.1+sub_m.iloc[:,1]*0.2+sub_m.iloc[:,0]*0.2+sub_m.iloc[:,1]*0.2+sub_m.iloc[:,0]*0.3\n",
    "    \n",
    "#submission = pd.DataFrame({'ID': sub_m.index, 'STATUS': pred})\n",
    "#t = pd.Timestamp.now()\n",
    "#submission.to_csv(os.path.abspath(\"../submission\") + \"/gensemble.csv\", index=False)"
   ]
  },
  {
   "cell_type": "code",
   "execution_count": null,
   "metadata": {},
   "outputs": [],
   "source": []
  }
 ],
 "metadata": {
  "kernelspec": {
   "display_name": "Python 3",
   "language": "python",
   "name": "python3"
  },
  "language_info": {
   "codemirror_mode": {
    "name": "ipython",
    "version": 3
   },
   "file_extension": ".py",
   "mimetype": "text/x-python",
   "name": "python",
   "nbconvert_exporter": "python",
   "pygments_lexer": "ipython3",
   "version": "3.8.5"
  }
 },
 "nbformat": 4,
 "nbformat_minor": 4
}
